{
 "cells": [
  {
   "cell_type": "code",
   "execution_count": 1,
   "id": "cf309968-8ba4-4543-9489-751d349bdb5f",
   "metadata": {},
   "outputs": [],
   "source": [
    "# %pip install great-expectations\n",
    "# %pip install openpyxl"
   ]
  },
  {
   "cell_type": "markdown",
   "id": "51b16395-a33a-4a80-87c9-a731fbf9beb4",
   "metadata": {},
   "source": [
    "# Ratepay Analysis\n",
    "This notebook contain the implementation of the solution to the tasks. Due to lack of time, there are lot of thing I would like to do but I was not able to do.  \n",
    "\n",
    "## Task 1 \n",
    "Share 3-5 insights about the dataset. What quality gates would you recommend to improve data\n",
    "quality?\n",
    "\n",
    "### Data Quality Gate\n",
    "1. Missing Value Analysis - Calculate the percentage of missing values(NAN values): For each column, identify the proportion of missing values to decide on appropriate handling strategies.\n",
    "2. Invalid Value Check - Ensure that columns like REGISTRATION_STATE_CGNDE contain only valid state codes and not invalid values like ??, 32, or **.\n",
    "3. test_schema_validation:\n",
    "    - Test schema validation: Use tools like Great Expectations to ensure columns such as FIRST_PURCHASE and LAST_PURCHASE are of datetime64 type.\n",
    "\n",
    "    - Validate data types: Ensure all columns have the correct data types, such as numeric types for purchase-related fields and categorical types for PREFERRED_DEVICE.\n",
    "\n",
    "4. test_uniqueness_check: Used great expectation the check uniqueness of columns like \"CUSTOMER_ID\"\n",
    "5. test_hour_values : Check if \"MOST_COMMON_HOUR_OF_THE_DAY_TO_PURCHASE\" is valid that is between 0 - 23\n",
    "6. test_weekdays_values : Check if \"MOST_COMMON_WEEKDAY_TO_PURCHASE\" is valid that is between 1 - 7\n",
    "7. Platform purchase validation: Check if the sum of WEB_PURCHASES, IOS_PURCHASES, and ANDROID_PURCHASES equals the total PURCHASE_COUNT_DELIVERY.\n",
    "8. Purchase catergories purchase validation: Verify that the sum of MISC_PURCHASES, HOME_PURCHASES, COSMETICS_PURCHASES, and FASHION_PURCHASES matches PURCHASE_TOTAL_EUR.\n",
    "9. Investigate FIRST_PURCHASE and FIRST_PURCHASE\n",
    "    - check date format\n",
    "    - check invalid date\n",
    "    - Date consistency checks: Ensure that FIRST_PURCHASE dates are earlier than or equal to LAST_PURCHASE dates.\n",
    "10. Payment method validation: If HAS_VALID_PAYMENT_METHOD is True, ensure that PURCHASE_COUNT_DELIVERY is greater than zero.\n",
    "\n",
    "## Data Cleaning \n",
    "Clean the data based on the quality gates above \n",
    "\n",
    "### Task 2\n",
    "How would you model the data to report\n",
    "1. Purchase trends\n",
    "\n",
    "   a. Hour of the day\n",
    "\n",
    "   b. Day of the week\n",
    "\n",
    "   c. Days between first and last purchase\n",
    "\n",
    "   d. Purchase value\n",
    "\n",
    "   e. Average Order Value\n",
    "2. Identify cohort of customers who are:\n",
    "\n",
    "   a. Least likely to purchase in the following month.\n",
    "\n",
    "   b. Most likely to purchase a marketing campaign.\n"
   ]
  },
  {
   "cell_type": "code",
   "execution_count": 35,
   "id": "03565722-d254-47e8-8dbb-e94903cccf63",
   "metadata": {},
   "outputs": [],
   "source": [
    "### Data Quality Gate"
   ]
  },
  {
   "cell_type": "code",
   "execution_count": 36,
   "id": "58a0b24d-a3ec-4e4d-af39-6f6ebc282a7e",
   "metadata": {},
   "outputs": [],
   "source": [
    "# Importing libraries required for data analysis and visualization\n",
    "import os\n",
    "import pandas as pd\n",
    "import matplotlib.pyplot as plt\n",
    "import great_expectations as ge"
   ]
  },
  {
   "cell_type": "code",
   "execution_count": 37,
   "id": "d5869f81-4b7a-468c-ae3b-f63542c70d2c",
   "metadata": {},
   "outputs": [],
   "source": [
    "# Setting pandas display options to show all rows, columns, and adjust the display width.\n",
    "pd.set_option(\"display.max_rows\", None)       # Display all rows in the DataFrame without truncation.\n",
    "pd.set_option(\"display.max_columns\", None)    # Display all columns in the DataFrame without truncation.\n",
    "pd.set_option(\"display.width\", None)          # Adjust the display width to fit the content, avoiding line breaks."
   ]
  },
  {
   "cell_type": "code",
   "execution_count": 38,
   "id": "3812583e-abd2-473b-bf03-e3fd324a9d53",
   "metadata": {},
   "outputs": [],
   "source": [
    "file_path = \"/Users/robert/repos/private_repos/ratepay/resources/data/Case Study Dataset.xlsx\""
   ]
  },
  {
   "cell_type": "code",
   "execution_count": 39,
   "id": "dc5e4588-6fc9-4d94-bcee-d060f02371c6",
   "metadata": {},
   "outputs": [],
   "source": [
    "# Loading the dataset from an Excel file into a pandas DataFrame.\n",
    "raw_dataset = pd.read_excel(file_path)"
   ]
  },
  {
   "cell_type": "code",
   "execution_count": 40,
   "id": "0cf7f1ad-62e1-4182-ab0e-9fa69da4b68f",
   "metadata": {},
   "outputs": [
    {
     "data": {
      "text/html": [
       "<div>\n",
       "<style scoped>\n",
       "    .dataframe tbody tr th:only-of-type {\n",
       "        vertical-align: middle;\n",
       "    }\n",
       "\n",
       "    .dataframe tbody tr th {\n",
       "        vertical-align: top;\n",
       "    }\n",
       "\n",
       "    .dataframe thead th {\n",
       "        text-align: right;\n",
       "    }\n",
       "</style>\n",
       "<table border=\"1\" class=\"dataframe\">\n",
       "  <thead>\n",
       "    <tr style=\"text-align: right;\">\n",
       "      <th></th>\n",
       "      <th>REGISTRATION_DATE</th>\n",
       "      <th>REGISTRATION_STATE_CGNDE</th>\n",
       "      <th>PURCHASE_COUNT_DELIVERY</th>\n",
       "      <th>FIRST_PURCHASE</th>\n",
       "      <th>LAST_PURCHASE</th>\n",
       "      <th>CUSTOMER_ID</th>\n",
       "      <th>MISC_PURCHASES</th>\n",
       "      <th>HOME_PURCHASES</th>\n",
       "      <th>COSMETICS_PURCHASES</th>\n",
       "      <th>FASHION_PURCHASES</th>\n",
       "      <th>PURCHASE_TOTAL_EUR</th>\n",
       "      <th>DISTINCT_PURCHASE_COUNT</th>\n",
       "      <th>PREFERRED_DEVICE</th>\n",
       "      <th>IOS_PURCHASES</th>\n",
       "      <th>WEB_PURCHASES</th>\n",
       "      <th>ANDROID_PURCHASES</th>\n",
       "      <th>HAS_VALID_PAYMENT_METHOD</th>\n",
       "      <th>MOST_COMMON_HOUR_OF_THE_DAY_TO_PURCHASE</th>\n",
       "      <th>MOST_COMMON_WEEKDAY_TO_PURCHASE</th>\n",
       "      <th>AVG_DAYS_BETWEEN_PURCHASES</th>\n",
       "      <th>AVERAGE_DELIVERY_DISTANCE_KMS</th>\n",
       "    </tr>\n",
       "  </thead>\n",
       "  <tbody>\n",
       "    <tr>\n",
       "      <th>0</th>\n",
       "      <td>2021-09-01</td>\n",
       "      <td>BER</td>\n",
       "      <td>NaN</td>\n",
       "      <td>NaN</td>\n",
       "      <td>NaN</td>\n",
       "      <td>1</td>\n",
       "      <td>NaN</td>\n",
       "      <td>NaN</td>\n",
       "      <td>NaN</td>\n",
       "      <td>NaN</td>\n",
       "      <td>NaN</td>\n",
       "      <td>NaN</td>\n",
       "      <td>ios</td>\n",
       "      <td>NaN</td>\n",
       "      <td>NaN</td>\n",
       "      <td>NaN</td>\n",
       "      <td>False</td>\n",
       "      <td>NaN</td>\n",
       "      <td>NaN</td>\n",
       "      <td>NaN</td>\n",
       "      <td>NaN</td>\n",
       "    </tr>\n",
       "    <tr>\n",
       "      <th>1</th>\n",
       "      <td>2021-09-01</td>\n",
       "      <td>FRA</td>\n",
       "      <td>1.0</td>\n",
       "      <td>2022-09-02 00:00:00</td>\n",
       "      <td>2022-09-02 00:00:00</td>\n",
       "      <td>2</td>\n",
       "      <td>0.0</td>\n",
       "      <td>1.0</td>\n",
       "      <td>0.0</td>\n",
       "      <td>0.0</td>\n",
       "      <td>38.456</td>\n",
       "      <td>1.0</td>\n",
       "      <td>android</td>\n",
       "      <td>0.0</td>\n",
       "      <td>0.0</td>\n",
       "      <td>1.0</td>\n",
       "      <td>False</td>\n",
       "      <td>23.0</td>\n",
       "      <td>2.0</td>\n",
       "      <td>NaN</td>\n",
       "      <td>6.853</td>\n",
       "    </tr>\n",
       "    <tr>\n",
       "      <th>2</th>\n",
       "      <td>2021-09-01</td>\n",
       "      <td>BER</td>\n",
       "      <td>19.0</td>\n",
       "      <td>2021-12-10 00:00:00</td>\n",
       "      <td>2022-05-25 00:00:00</td>\n",
       "      <td>3</td>\n",
       "      <td>0.0</td>\n",
       "      <td>4.0</td>\n",
       "      <td>1.0</td>\n",
       "      <td>14.0</td>\n",
       "      <td>631.488</td>\n",
       "      <td>9.0</td>\n",
       "      <td>android</td>\n",
       "      <td>0.0</td>\n",
       "      <td>19.0</td>\n",
       "      <td>0.0</td>\n",
       "      <td>True</td>\n",
       "      <td>21.0</td>\n",
       "      <td>2.0</td>\n",
       "      <td>9.0</td>\n",
       "      <td>6.559</td>\n",
       "    </tr>\n",
       "    <tr>\n",
       "      <th>3</th>\n",
       "      <td>2021-09-01</td>\n",
       "      <td>FRA</td>\n",
       "      <td>NaN</td>\n",
       "      <td>NaN</td>\n",
       "      <td>NaN</td>\n",
       "      <td>4</td>\n",
       "      <td>NaN</td>\n",
       "      <td>NaN</td>\n",
       "      <td>NaN</td>\n",
       "      <td>NaN</td>\n",
       "      <td>NaN</td>\n",
       "      <td>NaN</td>\n",
       "      <td>android</td>\n",
       "      <td>NaN</td>\n",
       "      <td>NaN</td>\n",
       "      <td>NaN</td>\n",
       "      <td>False</td>\n",
       "      <td>NaN</td>\n",
       "      <td>NaN</td>\n",
       "      <td>NaN</td>\n",
       "      <td>NaN</td>\n",
       "    </tr>\n",
       "    <tr>\n",
       "      <th>4</th>\n",
       "      <td>2021-09-01</td>\n",
       "      <td>MUC</td>\n",
       "      <td>NaN</td>\n",
       "      <td>NaN</td>\n",
       "      <td>NaN</td>\n",
       "      <td>5</td>\n",
       "      <td>NaN</td>\n",
       "      <td>NaN</td>\n",
       "      <td>NaN</td>\n",
       "      <td>NaN</td>\n",
       "      <td>NaN</td>\n",
       "      <td>NaN</td>\n",
       "      <td>android</td>\n",
       "      <td>NaN</td>\n",
       "      <td>NaN</td>\n",
       "      <td>NaN</td>\n",
       "      <td>False</td>\n",
       "      <td>NaN</td>\n",
       "      <td>NaN</td>\n",
       "      <td>NaN</td>\n",
       "      <td>NaN</td>\n",
       "    </tr>\n",
       "    <tr>\n",
       "      <th>5</th>\n",
       "      <td>2021-09-01</td>\n",
       "      <td>FRA</td>\n",
       "      <td>NaN</td>\n",
       "      <td>NaN</td>\n",
       "      <td>NaN</td>\n",
       "      <td>6</td>\n",
       "      <td>NaN</td>\n",
       "      <td>NaN</td>\n",
       "      <td>NaN</td>\n",
       "      <td>NaN</td>\n",
       "      <td>NaN</td>\n",
       "      <td>NaN</td>\n",
       "      <td>android</td>\n",
       "      <td>NaN</td>\n",
       "      <td>NaN</td>\n",
       "      <td>NaN</td>\n",
       "      <td>False</td>\n",
       "      <td>NaN</td>\n",
       "      <td>NaN</td>\n",
       "      <td>NaN</td>\n",
       "      <td>NaN</td>\n",
       "    </tr>\n",
       "    <tr>\n",
       "      <th>6</th>\n",
       "      <td>2021-09-01</td>\n",
       "      <td>BER</td>\n",
       "      <td>NaN</td>\n",
       "      <td>NaN</td>\n",
       "      <td>NaN</td>\n",
       "      <td>7</td>\n",
       "      <td>NaN</td>\n",
       "      <td>NaN</td>\n",
       "      <td>NaN</td>\n",
       "      <td>NaN</td>\n",
       "      <td>NaN</td>\n",
       "      <td>NaN</td>\n",
       "      <td>ios</td>\n",
       "      <td>NaN</td>\n",
       "      <td>NaN</td>\n",
       "      <td>NaN</td>\n",
       "      <td>False</td>\n",
       "      <td>NaN</td>\n",
       "      <td>NaN</td>\n",
       "      <td>NaN</td>\n",
       "      <td>NaN</td>\n",
       "    </tr>\n",
       "    <tr>\n",
       "      <th>7</th>\n",
       "      <td>2021-09-01</td>\n",
       "      <td>FRA</td>\n",
       "      <td>1.0</td>\n",
       "      <td>2022-10-14 00:00:00</td>\n",
       "      <td>2022-10-14 00:00:00</td>\n",
       "      <td>8</td>\n",
       "      <td>0.0</td>\n",
       "      <td>0.0</td>\n",
       "      <td>1.0</td>\n",
       "      <td>0.0</td>\n",
       "      <td>19.228</td>\n",
       "      <td>1.0</td>\n",
       "      <td>android</td>\n",
       "      <td>0.0</td>\n",
       "      <td>0.0</td>\n",
       "      <td>1.0</td>\n",
       "      <td>True</td>\n",
       "      <td>5.0</td>\n",
       "      <td>1.0</td>\n",
       "      <td>NaN</td>\n",
       "      <td>1.251</td>\n",
       "    </tr>\n",
       "    <tr>\n",
       "      <th>8</th>\n",
       "      <td>2021-09-01</td>\n",
       "      <td>FRA</td>\n",
       "      <td>NaN</td>\n",
       "      <td>NaN</td>\n",
       "      <td>NaN</td>\n",
       "      <td>9</td>\n",
       "      <td>NaN</td>\n",
       "      <td>NaN</td>\n",
       "      <td>NaN</td>\n",
       "      <td>NaN</td>\n",
       "      <td>NaN</td>\n",
       "      <td>NaN</td>\n",
       "      <td>android</td>\n",
       "      <td>NaN</td>\n",
       "      <td>NaN</td>\n",
       "      <td>NaN</td>\n",
       "      <td>False</td>\n",
       "      <td>NaN</td>\n",
       "      <td>NaN</td>\n",
       "      <td>NaN</td>\n",
       "      <td>NaN</td>\n",
       "    </tr>\n",
       "    <tr>\n",
       "      <th>9</th>\n",
       "      <td>2021-09-01</td>\n",
       "      <td>FRA</td>\n",
       "      <td>NaN</td>\n",
       "      <td>NaN</td>\n",
       "      <td>NaN</td>\n",
       "      <td>10</td>\n",
       "      <td>NaN</td>\n",
       "      <td>NaN</td>\n",
       "      <td>NaN</td>\n",
       "      <td>NaN</td>\n",
       "      <td>NaN</td>\n",
       "      <td>NaN</td>\n",
       "      <td>android</td>\n",
       "      <td>NaN</td>\n",
       "      <td>NaN</td>\n",
       "      <td>NaN</td>\n",
       "      <td>False</td>\n",
       "      <td>NaN</td>\n",
       "      <td>NaN</td>\n",
       "      <td>NaN</td>\n",
       "      <td>NaN</td>\n",
       "    </tr>\n",
       "  </tbody>\n",
       "</table>\n",
       "</div>"
      ],
      "text/plain": [
       "  REGISTRATION_DATE REGISTRATION_STATE_CGNDE  PURCHASE_COUNT_DELIVERY  \\\n",
       "0        2021-09-01                      BER                      NaN   \n",
       "1        2021-09-01                      FRA                      1.0   \n",
       "2        2021-09-01                      BER                     19.0   \n",
       "3        2021-09-01                      FRA                      NaN   \n",
       "4        2021-09-01                      MUC                      NaN   \n",
       "5        2021-09-01                      FRA                      NaN   \n",
       "6        2021-09-01                      BER                      NaN   \n",
       "7        2021-09-01                      FRA                      1.0   \n",
       "8        2021-09-01                      FRA                      NaN   \n",
       "9        2021-09-01                      FRA                      NaN   \n",
       "\n",
       "        FIRST_PURCHASE        LAST_PURCHASE  CUSTOMER_ID  MISC_PURCHASES  \\\n",
       "0                  NaN                  NaN            1             NaN   \n",
       "1  2022-09-02 00:00:00  2022-09-02 00:00:00            2             0.0   \n",
       "2  2021-12-10 00:00:00  2022-05-25 00:00:00            3             0.0   \n",
       "3                  NaN                  NaN            4             NaN   \n",
       "4                  NaN                  NaN            5             NaN   \n",
       "5                  NaN                  NaN            6             NaN   \n",
       "6                  NaN                  NaN            7             NaN   \n",
       "7  2022-10-14 00:00:00  2022-10-14 00:00:00            8             0.0   \n",
       "8                  NaN                  NaN            9             NaN   \n",
       "9                  NaN                  NaN           10             NaN   \n",
       "\n",
       "   HOME_PURCHASES  COSMETICS_PURCHASES  FASHION_PURCHASES  PURCHASE_TOTAL_EUR  \\\n",
       "0             NaN                  NaN                NaN                 NaN   \n",
       "1             1.0                  0.0                0.0              38.456   \n",
       "2             4.0                  1.0               14.0             631.488   \n",
       "3             NaN                  NaN                NaN                 NaN   \n",
       "4             NaN                  NaN                NaN                 NaN   \n",
       "5             NaN                  NaN                NaN                 NaN   \n",
       "6             NaN                  NaN                NaN                 NaN   \n",
       "7             0.0                  1.0                0.0              19.228   \n",
       "8             NaN                  NaN                NaN                 NaN   \n",
       "9             NaN                  NaN                NaN                 NaN   \n",
       "\n",
       "   DISTINCT_PURCHASE_COUNT PREFERRED_DEVICE  IOS_PURCHASES  WEB_PURCHASES  \\\n",
       "0                      NaN              ios            NaN            NaN   \n",
       "1                      1.0          android            0.0            0.0   \n",
       "2                      9.0          android            0.0           19.0   \n",
       "3                      NaN          android            NaN            NaN   \n",
       "4                      NaN          android            NaN            NaN   \n",
       "5                      NaN          android            NaN            NaN   \n",
       "6                      NaN              ios            NaN            NaN   \n",
       "7                      1.0          android            0.0            0.0   \n",
       "8                      NaN          android            NaN            NaN   \n",
       "9                      NaN          android            NaN            NaN   \n",
       "\n",
       "   ANDROID_PURCHASES  HAS_VALID_PAYMENT_METHOD  \\\n",
       "0                NaN                     False   \n",
       "1                1.0                     False   \n",
       "2                0.0                      True   \n",
       "3                NaN                     False   \n",
       "4                NaN                     False   \n",
       "5                NaN                     False   \n",
       "6                NaN                     False   \n",
       "7                1.0                      True   \n",
       "8                NaN                     False   \n",
       "9                NaN                     False   \n",
       "\n",
       "   MOST_COMMON_HOUR_OF_THE_DAY_TO_PURCHASE  MOST_COMMON_WEEKDAY_TO_PURCHASE  \\\n",
       "0                                      NaN                              NaN   \n",
       "1                                     23.0                              2.0   \n",
       "2                                     21.0                              2.0   \n",
       "3                                      NaN                              NaN   \n",
       "4                                      NaN                              NaN   \n",
       "5                                      NaN                              NaN   \n",
       "6                                      NaN                              NaN   \n",
       "7                                      5.0                              1.0   \n",
       "8                                      NaN                              NaN   \n",
       "9                                      NaN                              NaN   \n",
       "\n",
       "   AVG_DAYS_BETWEEN_PURCHASES  AVERAGE_DELIVERY_DISTANCE_KMS  \n",
       "0                         NaN                            NaN  \n",
       "1                         NaN                          6.853  \n",
       "2                         9.0                          6.559  \n",
       "3                         NaN                            NaN  \n",
       "4                         NaN                            NaN  \n",
       "5                         NaN                            NaN  \n",
       "6                         NaN                            NaN  \n",
       "7                         NaN                          1.251  \n",
       "8                         NaN                            NaN  \n",
       "9                         NaN                            NaN  "
      ]
     },
     "execution_count": 40,
     "metadata": {},
     "output_type": "execute_result"
    }
   ],
   "source": [
    "raw_dataset.head(10)"
   ]
  },
  {
   "cell_type": "code",
   "execution_count": 41,
   "id": "cdfd39ba-1c4e-481e-a427-e868d2017d88",
   "metadata": {},
   "outputs": [
    {
     "name": "stdout",
     "output_type": "stream",
     "text": [
      "<class 'pandas.core.frame.DataFrame'>\n",
      "RangeIndex: 21428 entries, 0 to 21427\n",
      "Data columns (total 21 columns):\n",
      " #   Column                                   Non-Null Count  Dtype         \n",
      "---  ------                                   --------------  -----         \n",
      " 0   REGISTRATION_DATE                        21428 non-null  datetime64[ns]\n",
      " 1   REGISTRATION_STATE_CGNDE                 21427 non-null  object        \n",
      " 2   PURCHASE_COUNT_DELIVERY                  11973 non-null  float64       \n",
      " 3   FIRST_PURCHASE                           11909 non-null  object        \n",
      " 4   LAST_PURCHASE                            11972 non-null  object        \n",
      " 5   CUSTOMER_ID                              21428 non-null  int64         \n",
      " 6   MISC_PURCHASES                           11973 non-null  float64       \n",
      " 7   HOME_PURCHASES                           11973 non-null  float64       \n",
      " 8   COSMETICS_PURCHASES                      11973 non-null  float64       \n",
      " 9   FASHION_PURCHASES                        11973 non-null  float64       \n",
      " 10  PURCHASE_TOTAL_EUR                       11973 non-null  float64       \n",
      " 11  DISTINCT_PURCHASE_COUNT                  11973 non-null  float64       \n",
      " 12  PREFERRED_DEVICE                         21364 non-null  object        \n",
      " 13  IOS_PURCHASES                            11973 non-null  float64       \n",
      " 14  WEB_PURCHASES                            11973 non-null  float64       \n",
      " 15  ANDROID_PURCHASES                        11973 non-null  float64       \n",
      " 16  HAS_VALID_PAYMENT_METHOD                 21428 non-null  bool          \n",
      " 17  MOST_COMMON_HOUR_OF_THE_DAY_TO_PURCHASE  11973 non-null  float64       \n",
      " 18  MOST_COMMON_WEEKDAY_TO_PURCHASE          11973 non-null  float64       \n",
      " 19  AVG_DAYS_BETWEEN_PURCHASES               7792 non-null   float64       \n",
      " 20  AVERAGE_DELIVERY_DISTANCE_KMS            11973 non-null  float64       \n",
      "dtypes: bool(1), datetime64[ns](1), float64(14), int64(1), object(4)\n",
      "memory usage: 3.3+ MB\n"
     ]
    }
   ],
   "source": [
    "# Displaying a concise summary of the dataset, including the number of non-null entries, column data types, and memory usage.\n",
    "raw_dataset.info()"
   ]
  },
  {
   "cell_type": "markdown",
   "id": "57c6bd9e-2845-4bec-9d0e-99b0d755b9a8",
   "metadata": {},
   "source": [
    "### 1. Missing Value Analysis"
   ]
  },
  {
   "cell_type": "code",
   "execution_count": 42,
   "id": "5505bb44-3712-4fc5-b1c0-53971cbce174",
   "metadata": {},
   "outputs": [
    {
     "data": {
      "text/html": [
       "<div>\n",
       "<style scoped>\n",
       "    .dataframe tbody tr th:only-of-type {\n",
       "        vertical-align: middle;\n",
       "    }\n",
       "\n",
       "    .dataframe tbody tr th {\n",
       "        vertical-align: top;\n",
       "    }\n",
       "\n",
       "    .dataframe thead th {\n",
       "        text-align: right;\n",
       "    }\n",
       "</style>\n",
       "<table border=\"1\" class=\"dataframe\">\n",
       "  <thead>\n",
       "    <tr style=\"text-align: right;\">\n",
       "      <th></th>\n",
       "      <th>Column</th>\n",
       "      <th>NaN_Percentage</th>\n",
       "    </tr>\n",
       "  </thead>\n",
       "  <tbody>\n",
       "    <tr>\n",
       "      <th>19</th>\n",
       "      <td>AVG_DAYS_BETWEEN_PURCHASES</td>\n",
       "      <td>63.64</td>\n",
       "    </tr>\n",
       "    <tr>\n",
       "      <th>3</th>\n",
       "      <td>FIRST_PURCHASE</td>\n",
       "      <td>44.42</td>\n",
       "    </tr>\n",
       "    <tr>\n",
       "      <th>4</th>\n",
       "      <td>LAST_PURCHASE</td>\n",
       "      <td>44.13</td>\n",
       "    </tr>\n",
       "    <tr>\n",
       "      <th>10</th>\n",
       "      <td>PURCHASE_TOTAL_EUR</td>\n",
       "      <td>44.12</td>\n",
       "    </tr>\n",
       "    <tr>\n",
       "      <th>11</th>\n",
       "      <td>DISTINCT_PURCHASE_COUNT</td>\n",
       "      <td>44.12</td>\n",
       "    </tr>\n",
       "    <tr>\n",
       "      <th>18</th>\n",
       "      <td>MOST_COMMON_WEEKDAY_TO_PURCHASE</td>\n",
       "      <td>44.12</td>\n",
       "    </tr>\n",
       "    <tr>\n",
       "      <th>17</th>\n",
       "      <td>MOST_COMMON_HOUR_OF_THE_DAY_TO_PURCHASE</td>\n",
       "      <td>44.12</td>\n",
       "    </tr>\n",
       "    <tr>\n",
       "      <th>15</th>\n",
       "      <td>ANDROID_PURCHASES</td>\n",
       "      <td>44.12</td>\n",
       "    </tr>\n",
       "    <tr>\n",
       "      <th>14</th>\n",
       "      <td>WEB_PURCHASES</td>\n",
       "      <td>44.12</td>\n",
       "    </tr>\n",
       "    <tr>\n",
       "      <th>13</th>\n",
       "      <td>IOS_PURCHASES</td>\n",
       "      <td>44.12</td>\n",
       "    </tr>\n",
       "    <tr>\n",
       "      <th>20</th>\n",
       "      <td>AVERAGE_DELIVERY_DISTANCE_KMS</td>\n",
       "      <td>44.12</td>\n",
       "    </tr>\n",
       "    <tr>\n",
       "      <th>9</th>\n",
       "      <td>FASHION_PURCHASES</td>\n",
       "      <td>44.12</td>\n",
       "    </tr>\n",
       "    <tr>\n",
       "      <th>8</th>\n",
       "      <td>COSMETICS_PURCHASES</td>\n",
       "      <td>44.12</td>\n",
       "    </tr>\n",
       "    <tr>\n",
       "      <th>7</th>\n",
       "      <td>HOME_PURCHASES</td>\n",
       "      <td>44.12</td>\n",
       "    </tr>\n",
       "    <tr>\n",
       "      <th>6</th>\n",
       "      <td>MISC_PURCHASES</td>\n",
       "      <td>44.12</td>\n",
       "    </tr>\n",
       "    <tr>\n",
       "      <th>2</th>\n",
       "      <td>PURCHASE_COUNT_DELIVERY</td>\n",
       "      <td>44.12</td>\n",
       "    </tr>\n",
       "    <tr>\n",
       "      <th>12</th>\n",
       "      <td>PREFERRED_DEVICE</td>\n",
       "      <td>0.30</td>\n",
       "    </tr>\n",
       "    <tr>\n",
       "      <th>1</th>\n",
       "      <td>REGISTRATION_STATE_CGNDE</td>\n",
       "      <td>0.00</td>\n",
       "    </tr>\n",
       "    <tr>\n",
       "      <th>16</th>\n",
       "      <td>HAS_VALID_PAYMENT_METHOD</td>\n",
       "      <td>0.00</td>\n",
       "    </tr>\n",
       "    <tr>\n",
       "      <th>5</th>\n",
       "      <td>CUSTOMER_ID</td>\n",
       "      <td>0.00</td>\n",
       "    </tr>\n",
       "    <tr>\n",
       "      <th>0</th>\n",
       "      <td>REGISTRATION_DATE</td>\n",
       "      <td>0.00</td>\n",
       "    </tr>\n",
       "  </tbody>\n",
       "</table>\n",
       "</div>"
      ],
      "text/plain": [
       "                                     Column  NaN_Percentage\n",
       "19               AVG_DAYS_BETWEEN_PURCHASES           63.64\n",
       "3                            FIRST_PURCHASE           44.42\n",
       "4                             LAST_PURCHASE           44.13\n",
       "10                       PURCHASE_TOTAL_EUR           44.12\n",
       "11                  DISTINCT_PURCHASE_COUNT           44.12\n",
       "18          MOST_COMMON_WEEKDAY_TO_PURCHASE           44.12\n",
       "17  MOST_COMMON_HOUR_OF_THE_DAY_TO_PURCHASE           44.12\n",
       "15                        ANDROID_PURCHASES           44.12\n",
       "14                            WEB_PURCHASES           44.12\n",
       "13                            IOS_PURCHASES           44.12\n",
       "20            AVERAGE_DELIVERY_DISTANCE_KMS           44.12\n",
       "9                         FASHION_PURCHASES           44.12\n",
       "8                       COSMETICS_PURCHASES           44.12\n",
       "7                            HOME_PURCHASES           44.12\n",
       "6                            MISC_PURCHASES           44.12\n",
       "2                   PURCHASE_COUNT_DELIVERY           44.12\n",
       "12                         PREFERRED_DEVICE            0.30\n",
       "1                  REGISTRATION_STATE_CGNDE            0.00\n",
       "16                 HAS_VALID_PAYMENT_METHOD            0.00\n",
       "5                               CUSTOMER_ID            0.00\n",
       "0                         REGISTRATION_DATE            0.00"
      ]
     },
     "execution_count": 42,
     "metadata": {},
     "output_type": "execute_result"
    }
   ],
   "source": [
    "# Calculate the percentage of NaN values in each column\n",
    "nan_percentage = round(raw_dataset.isna().mean() * 100, 2)\n",
    "\n",
    "# Convert the Series to a DataFrame and rename the column\n",
    "nan_percentage_df = nan_percentage.reset_index()\n",
    "nan_percentage_df.columns = ['Column', 'NaN_Percentage']\n",
    "\n",
    "# Sort the DataFrame by NaN percentage in descending order\n",
    "nan_percentage_df = nan_percentage_df.sort_values(by='NaN_Percentage', ascending=False)\n",
    "\n",
    "# Display the result\n",
    "nan_percentage_df"
   ]
  },
  {
   "cell_type": "markdown",
   "id": "6c4fb009-08e8-4f57-8c89-6101d331651d",
   "metadata": {},
   "source": [
    "### 2. Invalid Value Check "
   ]
  },
  {
   "cell_type": "code",
   "execution_count": 43,
   "id": "478af2fc-13f1-467a-881a-4cbfaa01f471",
   "metadata": {},
   "outputs": [
    {
     "data": {
      "text/plain": [
       "REGISTRATION_STATE_CGNDE\n",
       "FRA    10277\n",
       "BER     8081\n",
       "MUC     3042\n",
       "CGN       11\n",
       "ZRH        7\n",
       "STR        5\n",
       "%#         1\n",
       "??         1\n",
       "32         1\n",
       "**         1\n",
       "Name: count, dtype: int64"
      ]
     },
     "execution_count": 43,
     "metadata": {},
     "output_type": "execute_result"
    }
   ],
   "source": [
    "# Display the count of unique values in the 'REGISTRATION_STATE_CGNDE' column of the dataset.\n",
    "# This provides a summary of how many times each unique value appears in the column.\n",
    "raw_dataset[\"REGISTRATION_STATE_CGNDE\"].value_counts()"
   ]
  },
  {
   "cell_type": "markdown",
   "id": "93a34981-a199-495b-a715-9b28a5b71917",
   "metadata": {},
   "source": [
    "The presence of '%#', '??', '32', and '**' indicates that there are invalid entries."
   ]
  },
  {
   "cell_type": "code",
   "execution_count": 44,
   "id": "c4ae3792-7df7-4118-93f0-6fe532fb3541",
   "metadata": {},
   "outputs": [
    {
     "data": {
      "text/plain": [
       "PREFERRED_DEVICE\n",
       "ios        9444\n",
       "android    8226\n",
       "web        3694\n",
       "Name: count, dtype: int64"
      ]
     },
     "execution_count": 44,
     "metadata": {},
     "output_type": "execute_result"
    }
   ],
   "source": [
    "raw_dataset[\"PREFERRED_DEVICE\"].value_counts()"
   ]
  },
  {
   "cell_type": "code",
   "execution_count": null,
   "id": "f791d75d-c0c6-446f-8392-a8d8e3fbe4a0",
   "metadata": {},
   "outputs": [],
   "source": []
  },
  {
   "cell_type": "code",
   "execution_count": 45,
   "id": "3a7208f6-2430-4f5f-bd1a-d0da92e387d9",
   "metadata": {},
   "outputs": [],
   "source": [
    "# Converting the pandas DataFrame into a Great Expectations dataset to apply data validation and profiling.\n",
    "ge_df = ge.from_pandas(raw_dataset)"
   ]
  },
  {
   "cell_type": "markdown",
   "id": "0f46c90d-6b81-4dbc-803c-fb4046559a95",
   "metadata": {},
   "source": [
    "### 3. Test Schema Validation"
   ]
  },
  {
   "cell_type": "code",
   "execution_count": 46,
   "id": "1e3ab0b3-c15c-42e8-adc0-1a08557792f4",
   "metadata": {},
   "outputs": [],
   "source": [
    "def test_schema_validation(df: ge.dataset.PandasDataset):\n",
    "    \"\"\"\n",
    "    Validate the schema of a Great Expectations dataset against the expected schema.\n",
    "\n",
    "    This function checks if the data types of the columns in the dataset match the expected types\n",
    "    and provides feedback on any mismatches. If all columns conform to the expected schema, \n",
    "    a success message is printed.\n",
    "\n",
    "    Args:\n",
    "        df (ge.dataset.PandasDataset): The Great Expectations dataset to be validated.\n",
    "    \"\"\"\n",
    "    # Define the expected schema with column names as keys and expected data types as values\n",
    "    expected_schema = {\n",
    "        'REGISTRATION_DATE': 'datetime64[ns]',\n",
    "        'REGISTRATION_STATE_CGNDE': 'object',\n",
    "        'PURCHASE_COUNT_DELIVERY': 'float64',\n",
    "        'FIRST_PURCHASE': 'datetime64[ns]',\n",
    "        'LAST_PURCHASE': 'datetime64[ns]',\n",
    "        'CUSTOMER_ID': 'int64',\n",
    "        'MISC_PURCHASES': 'float64',\n",
    "        'HOME_PURCHASES': 'float64',\n",
    "        'COSMETICS_PURCHASES': 'float64',\n",
    "        'FASHION_PURCHASES': 'float64',\n",
    "        'PURCHASE_TOTAL_EUR': 'float64',\n",
    "        'DISTINCT_PURCHASE_COUNT': 'float64',\n",
    "        'PREFERRED_DEVICE': 'object',\n",
    "        'IOS_PURCHASES': 'float64',\n",
    "        'WEB_PURCHASES': 'float64',\n",
    "        'ANDROID_PURCHASES': 'float64',\n",
    "        'HAS_VALID_PAYMENT_METHOD': 'bool',\n",
    "        'MOST_COMMON_HOUR_OF_THE_DAY_TO_PURCHASE': 'float64',\n",
    "        'MOST_COMMON_WEEKDAY_TO_PURCHASE': 'float64',\n",
    "        'AVG_DAYS_BETWEEN_PURCHASES': 'float64',\n",
    "        'AVERAGE_DELIVERY_DISTANCE_KMS': 'float64'\n",
    "    }\n",
    "\n",
    "    # Initialize a list to store any failed columns\n",
    "    failed_columns = []\n",
    "\n",
    "    # Iterate through the expected schema and validate the data types of each column\n",
    "    for col, expected_type in expected_schema.items():\n",
    "        result = df.expect_column_values_to_be_of_type(col, expected_type)\n",
    "        observation = result['result'].get('observed_value')\n",
    "        if not result.success:\n",
    "            failed_columns.append(f\"Column: {col}, Expected: {expected_type}, Observed: {observation}\")\n",
    "\n",
    "    # If there are any failed columns, raise an AssertionError and display the list of failures\n",
    "    if failed_columns:\n",
    "        failure_message = \"Schema validation failed for the following columns:\\n\" + \"\\n\".join(failed_columns)\n",
    "        raise AssertionError(failure_message)\n",
    "    else:\n",
    "        # Print success message if all columns conform to the expected schema\n",
    "        print(\"Schema validation successful. All columns match the expected data types.\")"
   ]
  },
  {
   "cell_type": "code",
   "execution_count": 47,
   "id": "89af5b01-4248-4af1-a22e-972486eee775",
   "metadata": {},
   "outputs": [
    {
     "ename": "AssertionError",
     "evalue": "Schema validation failed for the following columns:\nColumn: FIRST_PURCHASE, Expected: datetime64[ns], Observed: None\nColumn: LAST_PURCHASE, Expected: datetime64[ns], Observed: None",
     "output_type": "error",
     "traceback": [
      "\u001b[0;31m---------------------------------------------------------------------------\u001b[0m",
      "\u001b[0;31mAssertionError\u001b[0m                            Traceback (most recent call last)",
      "Cell \u001b[0;32mIn[47], line 2\u001b[0m\n\u001b[1;32m      1\u001b[0m \u001b[38;5;66;03m# Pass the Great Expectations dataframe to the schema validation function\u001b[39;00m\n\u001b[0;32m----> 2\u001b[0m \u001b[43mtest_schema_validation\u001b[49m\u001b[43m(\u001b[49m\u001b[43mge_df\u001b[49m\u001b[43m)\u001b[49m\n",
      "Cell \u001b[0;32mIn[46], line 50\u001b[0m, in \u001b[0;36mtest_schema_validation\u001b[0;34m(df)\u001b[0m\n\u001b[1;32m     48\u001b[0m \u001b[38;5;28;01mif\u001b[39;00m failed_columns:\n\u001b[1;32m     49\u001b[0m     failure_message \u001b[38;5;241m=\u001b[39m \u001b[38;5;124m\"\u001b[39m\u001b[38;5;124mSchema validation failed for the following columns:\u001b[39m\u001b[38;5;130;01m\\n\u001b[39;00m\u001b[38;5;124m\"\u001b[39m \u001b[38;5;241m+\u001b[39m \u001b[38;5;124m\"\u001b[39m\u001b[38;5;130;01m\\n\u001b[39;00m\u001b[38;5;124m\"\u001b[39m\u001b[38;5;241m.\u001b[39mjoin(failed_columns)\n\u001b[0;32m---> 50\u001b[0m     \u001b[38;5;28;01mraise\u001b[39;00m \u001b[38;5;167;01mAssertionError\u001b[39;00m(failure_message)\n\u001b[1;32m     51\u001b[0m \u001b[38;5;28;01melse\u001b[39;00m:\n\u001b[1;32m     52\u001b[0m     \u001b[38;5;66;03m# Print success message if all columns conform to the expected schema\u001b[39;00m\n\u001b[1;32m     53\u001b[0m     \u001b[38;5;28mprint\u001b[39m(\u001b[38;5;124m\"\u001b[39m\u001b[38;5;124mSchema validation successful. All columns match the expected data types.\u001b[39m\u001b[38;5;124m\"\u001b[39m)\n",
      "\u001b[0;31mAssertionError\u001b[0m: Schema validation failed for the following columns:\nColumn: FIRST_PURCHASE, Expected: datetime64[ns], Observed: None\nColumn: LAST_PURCHASE, Expected: datetime64[ns], Observed: None"
     ]
    }
   ],
   "source": [
    "# Pass the Great Expectations dataframe to the schema validation function\n",
    "test_schema_validation(ge_df)"
   ]
  },
  {
   "cell_type": "markdown",
   "id": "f4e4719e-d6e9-412d-be4f-c08853304a84",
   "metadata": {},
   "source": [
    "### 4. Test Uniqueness Check"
   ]
  },
  {
   "cell_type": "code",
   "execution_count": 48,
   "id": "ede4ca6c-6703-4a78-a35d-be5cf560dd0e",
   "metadata": {},
   "outputs": [
    {
     "name": "stdout",
     "output_type": "stream",
     "text": [
      "Uniqueness check passed for 'CUSTOMER_ID' column.\n"
     ]
    }
   ],
   "source": [
    "def test_uniqueness_check(df: ge.dataset.PandasDataset):\n",
    "    \"\"\"\n",
    "    Test to ensure that the 'CUSTOMER_ID' column has unique values.\n",
    "\n",
    "    This function checks whether all the values in the 'CUSTOMER_ID' column are unique.\n",
    "    Prints a success message if all values are unique, otherwise prints an error message.\n",
    "    \"\"\"\n",
    "    # Validate that all values in the 'CUSTOMER_ID' column are unique\n",
    "    result = df.expect_column_values_to_be_unique('CUSTOMER_ID')\n",
    "    \n",
    "    if result.success:\n",
    "        print(\"Uniqueness check passed for 'CUSTOMER_ID' column.\")\n",
    "    else:\n",
    "        print(f\"Uniqueness check failed for 'CUSTOMER_ID' column. Observed value: {result.result.get('observed_value')}\")\n",
    "\n",
    "# Call the test function on the Great Expectations dataframe\n",
    "test_uniqueness_check(ge_df)"
   ]
  },
  {
   "cell_type": "markdown",
   "id": "1cf046f2-a560-4bb8-b2e7-25e74b355a2a",
   "metadata": {},
   "source": [
    "## 5. test_hour_values "
   ]
  },
  {
   "cell_type": "code",
   "execution_count": 50,
   "id": "cc4feec7-6376-4995-bec4-9e8cb1420b11",
   "metadata": {},
   "outputs": [
    {
     "name": "stdout",
     "output_type": "stream",
     "text": [
      "Test passed: All values in 'MOST_COMMON_HOUR_OF_THE_DAY_TO_PURCHASE' are between 0 and 23.\n"
     ]
    }
   ],
   "source": [
    "def test_hour_values(df: ge.dataset.PandasDataset):\n",
    "    \"\"\"\n",
    "    Check Invalid values in MOST_COMMON_HOUR_OF_THE_DAY_TO_PURCHASE\n",
    "    \n",
    "    Tests whether the 'MOST_COMMON_HOUR_OF_THE_DAY_TO_PURCHASE' column in the provided dataframe\n",
    "    has values between 0 and 23, inclusive.\n",
    "\n",
    "    Parameters:\n",
    "    df (ge.dataset.PandasDataset): A Great Expectations dataframe that contains the data to be tested.\n",
    "\n",
    "    Prints:\n",
    "    - \"Test passed\" if all values in the specified column are between 0 and 23.\n",
    "    - \"Test failed\" if any values in the specified column are outside the range of 0 to 23.\n",
    "    \"\"\"\n",
    "    result = df.expect_column_values_to_be_between(\n",
    "        column=\"MOST_COMMON_HOUR_OF_THE_DAY_TO_PURCHASE\", \n",
    "        min_value=0, \n",
    "        max_value=23\n",
    "    )\n",
    "\n",
    "    # Check if the test was successful and print the result\n",
    "    if result[\"success\"]:\n",
    "        print(\"Test passed: All values in 'MOST_COMMON_HOUR_OF_THE_DAY_TO_PURCHASE' are between 0 and 23.\")\n",
    "    else:\n",
    "        print(\"Test failed: Some values in 'MOST_COMMON_HOUR_OF_THE_DAY_TO_PURCHASE' are not between 0 and 23.\")\n",
    "\n",
    "# Call the test function on the Great Expectations dataframe\n",
    "test_hour_values(ge_df)"
   ]
  },
  {
   "cell_type": "code",
   "execution_count": 51,
   "id": "c0a7717e-7363-448d-8e2d-8584635c3c51",
   "metadata": {},
   "outputs": [
    {
     "data": {
      "text/plain": [
       "23.0"
      ]
     },
     "execution_count": 51,
     "metadata": {},
     "output_type": "execute_result"
    }
   ],
   "source": [
    "raw_dataset[\"MOST_COMMON_HOUR_OF_THE_DAY_TO_PURCHASE\"].max()"
   ]
  },
  {
   "cell_type": "code",
   "execution_count": 52,
   "id": "2e891df6-0449-42e4-a615-4c8ae586ac44",
   "metadata": {},
   "outputs": [
    {
     "data": {
      "text/plain": [
       "0.0"
      ]
     },
     "execution_count": 52,
     "metadata": {},
     "output_type": "execute_result"
    }
   ],
   "source": [
    "raw_dataset[\"MOST_COMMON_HOUR_OF_THE_DAY_TO_PURCHASE\"].min()"
   ]
  },
  {
   "cell_type": "markdown",
   "id": "cd17803b-6317-4e88-a8ab-2bcf42f658ad",
   "metadata": {},
   "source": [
    "## 6. test_weekday_values "
   ]
  },
  {
   "cell_type": "code",
   "execution_count": 53,
   "id": "bc832d05-7404-437b-8d5b-53027df24b16",
   "metadata": {},
   "outputs": [
    {
     "name": "stdout",
     "output_type": "stream",
     "text": [
      "Test passed: All values in 'MOST_COMMON_WEEKDAY_TO_PURCHASE' are between 1 and 7.\n"
     ]
    }
   ],
   "source": [
    "def test_weekday_values(df: ge.dataset.PandasDataset):\n",
    "    \"\"\"\n",
    "    Check Invalid values in MOST_COMMON_WEEKDAY_TO_PURCHASE\n",
    "    \n",
    "    Tests whether the 'MOST_COMMON_WEEKDAY_TO_PURCHASE' column in the provided dataframe\n",
    "    has values between 1 and 7, inclusive.\n",
    "\n",
    "    Parameters:\n",
    "    df (ge.dataset.PandasDataset): A Great Expectations dataframe that contains the data to be tested.\n",
    "\n",
    "    Prints:\n",
    "    - \"Test passed\" if all values in the specified column are between 1 and 7.\n",
    "    - \"Test failed\" if any values in the specified column are outside the range of 1 to 7.\n",
    "    \"\"\"\n",
    "    result = df.expect_column_values_to_be_between(\n",
    "        column=\"MOST_COMMON_WEEKDAY_TO_PURCHASE\", \n",
    "        min_value=1, \n",
    "        max_value=7\n",
    "    )\n",
    "\n",
    "    # Check if the test was successful and print the result\n",
    "    if result[\"success\"]:\n",
    "        print(\"Test passed: All values in 'MOST_COMMON_WEEKDAY_TO_PURCHASE' are between 1 and 7.\")\n",
    "    else:\n",
    "        print(\"Test failed: Some values in 'MOST_COMMON_WEEKDAY_TO_PURCHASE' are not between 1 and 7.\")\n",
    "\n",
    "# Call the test function on the Great Expectations dataframe\n",
    "test_weekday_values(ge_df)"
   ]
  },
  {
   "cell_type": "code",
   "execution_count": 54,
   "id": "4825552b-3e87-4464-851c-5ab2c3d6fada",
   "metadata": {},
   "outputs": [
    {
     "data": {
      "text/plain": [
       "7.0"
      ]
     },
     "execution_count": 54,
     "metadata": {},
     "output_type": "execute_result"
    }
   ],
   "source": [
    "raw_dataset[\"MOST_COMMON_WEEKDAY_TO_PURCHASE\"].max()"
   ]
  },
  {
   "cell_type": "code",
   "execution_count": 55,
   "id": "f1d96a8a-503c-4bf6-9fe6-fe15b7fcb6ba",
   "metadata": {},
   "outputs": [
    {
     "data": {
      "text/plain": [
       "1.0"
      ]
     },
     "execution_count": 55,
     "metadata": {},
     "output_type": "execute_result"
    }
   ],
   "source": [
    "raw_dataset[\"MOST_COMMON_WEEKDAY_TO_PURCHASE\"].min()"
   ]
  },
  {
   "cell_type": "markdown",
   "id": "1cb6d19d-708b-4b07-b63f-d51561f2f1c8",
   "metadata": {},
   "source": [
    "## 7. Platform purchase check"
   ]
  },
  {
   "cell_type": "code",
   "execution_count": 56,
   "id": "818367ea-c651-4dc1-8fd8-4beaacf5b8ac",
   "metadata": {},
   "outputs": [],
   "source": [
    "platform_dataset = raw_dataset[[\"CUSTOMER_ID\", \"WEB_PURCHASES\", \"IOS_PURCHASES\", \"ANDROID_PURCHASES\", \"PURCHASE_COUNT_DELIVERY\"]]"
   ]
  },
  {
   "cell_type": "code",
   "execution_count": 57,
   "id": "0233693e-6329-4d13-8389-db0b4ba12f72",
   "metadata": {},
   "outputs": [
    {
     "name": "stdout",
     "output_type": "stream",
     "text": [
      "<class 'pandas.core.frame.DataFrame'>\n",
      "RangeIndex: 21428 entries, 0 to 21427\n",
      "Data columns (total 5 columns):\n",
      " #   Column                   Non-Null Count  Dtype  \n",
      "---  ------                   --------------  -----  \n",
      " 0   CUSTOMER_ID              21428 non-null  int64  \n",
      " 1   WEB_PURCHASES            11973 non-null  float64\n",
      " 2   IOS_PURCHASES            11973 non-null  float64\n",
      " 3   ANDROID_PURCHASES        11973 non-null  float64\n",
      " 4   PURCHASE_COUNT_DELIVERY  11973 non-null  float64\n",
      "dtypes: float64(4), int64(1)\n",
      "memory usage: 837.2 KB\n"
     ]
    }
   ],
   "source": [
    "platform_dataset.info()"
   ]
  },
  {
   "cell_type": "code",
   "execution_count": 58,
   "id": "0d4a2e54-9b25-4fb0-9c77-2b91d618cd78",
   "metadata": {},
   "outputs": [],
   "source": [
    "platform_dataset.dropna(inplace=True)"
   ]
  },
  {
   "cell_type": "code",
   "execution_count": 59,
   "id": "fd6f6ca9-32d6-4975-8e71-9cc9953b973f",
   "metadata": {},
   "outputs": [
    {
     "name": "stdout",
     "output_type": "stream",
     "text": [
      "<class 'pandas.core.frame.DataFrame'>\n",
      "Index: 11973 entries, 1 to 21427\n",
      "Data columns (total 5 columns):\n",
      " #   Column                   Non-Null Count  Dtype  \n",
      "---  ------                   --------------  -----  \n",
      " 0   CUSTOMER_ID              11973 non-null  int64  \n",
      " 1   WEB_PURCHASES            11973 non-null  float64\n",
      " 2   IOS_PURCHASES            11973 non-null  float64\n",
      " 3   ANDROID_PURCHASES        11973 non-null  float64\n",
      " 4   PURCHASE_COUNT_DELIVERY  11973 non-null  float64\n",
      "dtypes: float64(4), int64(1)\n",
      "memory usage: 561.2 KB\n"
     ]
    }
   ],
   "source": [
    "platform_dataset.info()"
   ]
  },
  {
   "cell_type": "code",
   "execution_count": 60,
   "id": "3c091875-6266-4f62-8aac-4968cd8e2bc7",
   "metadata": {},
   "outputs": [],
   "source": [
    "platform_dataset['PLATFORM_SUM'] = (\n",
    "    platform_dataset['WEB_PURCHASES'] + \n",
    "    platform_dataset['IOS_PURCHASES'] + \n",
    "    platform_dataset['ANDROID_PURCHASES'] \n",
    ")"
   ]
  },
  {
   "cell_type": "code",
   "execution_count": 61,
   "id": "a0a37e3b-f2fa-4e00-bf3c-7163e3ef5f1e",
   "metadata": {},
   "outputs": [],
   "source": [
    "# Check if this sum equals 'PURCHASE_COUNT_DELIVERY'\n",
    "platform_dataset['IS_PLATFORM_SUM_EQUAL'] = platform_dataset['PLATFORM_SUM'] == platform_dataset['PURCHASE_COUNT_DELIVERY']"
   ]
  },
  {
   "cell_type": "code",
   "execution_count": 62,
   "id": "19a4a9fd-796e-4da9-952a-037d5fcf8452",
   "metadata": {},
   "outputs": [
    {
     "data": {
      "text/plain": [
       "(2025, 7)"
      ]
     },
     "execution_count": 62,
     "metadata": {},
     "output_type": "execute_result"
    }
   ],
   "source": [
    "platform_dataset[platform_dataset['IS_PLATFORM_SUM_EQUAL']==False].shape"
   ]
  },
  {
   "cell_type": "markdown",
   "id": "a0870d6e-0d8e-4f39-996f-04cf4bc1fe03",
   "metadata": {},
   "source": [
    "These shows 2025 samples don't have sum up to the purchase count delivery"
   ]
  },
  {
   "cell_type": "markdown",
   "id": "d1045372-2ab3-41ec-88de-a629aad401d0",
   "metadata": {},
   "source": [
    "## 8. Purchase catergories purchase validation"
   ]
  },
  {
   "cell_type": "code",
   "execution_count": 63,
   "id": "734419d0-f496-4737-97d1-46880aaff546",
   "metadata": {},
   "outputs": [],
   "source": [
    "purchase_cat_dataset = raw_dataset[[\"CUSTOMER_ID\", \"MISC_PURCHASES\",\t\"HOME_PURCHASES\",\t\"COSMETICS_PURCHASES\",\t\"FASHION_PURCHASES\", \"PURCHASE_COUNT_DELIVERY\"]]"
   ]
  },
  {
   "cell_type": "code",
   "execution_count": 64,
   "id": "0d112195-5321-46de-9f58-b2534879a90a",
   "metadata": {},
   "outputs": [
    {
     "name": "stdout",
     "output_type": "stream",
     "text": [
      "<class 'pandas.core.frame.DataFrame'>\n",
      "RangeIndex: 21428 entries, 0 to 21427\n",
      "Data columns (total 6 columns):\n",
      " #   Column                   Non-Null Count  Dtype  \n",
      "---  ------                   --------------  -----  \n",
      " 0   CUSTOMER_ID              21428 non-null  int64  \n",
      " 1   MISC_PURCHASES           11973 non-null  float64\n",
      " 2   HOME_PURCHASES           11973 non-null  float64\n",
      " 3   COSMETICS_PURCHASES      11973 non-null  float64\n",
      " 4   FASHION_PURCHASES        11973 non-null  float64\n",
      " 5   PURCHASE_COUNT_DELIVERY  11973 non-null  float64\n",
      "dtypes: float64(5), int64(1)\n",
      "memory usage: 1004.6 KB\n"
     ]
    }
   ],
   "source": [
    "purchase_cat_dataset.info()"
   ]
  },
  {
   "cell_type": "code",
   "execution_count": 65,
   "id": "7718de86-9330-4cb5-a5e4-0815c8e11d04",
   "metadata": {},
   "outputs": [],
   "source": [
    "purchase_cat_dataset.dropna(inplace=True)"
   ]
  },
  {
   "cell_type": "code",
   "execution_count": 66,
   "id": "ee5ddf5c-7b11-48c2-b520-a81d2c893d45",
   "metadata": {},
   "outputs": [
    {
     "name": "stdout",
     "output_type": "stream",
     "text": [
      "<class 'pandas.core.frame.DataFrame'>\n",
      "Index: 11973 entries, 1 to 21427\n",
      "Data columns (total 6 columns):\n",
      " #   Column                   Non-Null Count  Dtype  \n",
      "---  ------                   --------------  -----  \n",
      " 0   CUSTOMER_ID              11973 non-null  int64  \n",
      " 1   MISC_PURCHASES           11973 non-null  float64\n",
      " 2   HOME_PURCHASES           11973 non-null  float64\n",
      " 3   COSMETICS_PURCHASES      11973 non-null  float64\n",
      " 4   FASHION_PURCHASES        11973 non-null  float64\n",
      " 5   PURCHASE_COUNT_DELIVERY  11973 non-null  float64\n",
      "dtypes: float64(5), int64(1)\n",
      "memory usage: 654.8 KB\n"
     ]
    }
   ],
   "source": [
    "purchase_cat_dataset.info()"
   ]
  },
  {
   "cell_type": "code",
   "execution_count": 67,
   "id": "e030c2d2-0495-42da-8596-8ac2888c77f8",
   "metadata": {},
   "outputs": [],
   "source": [
    "# Calculate the sum of the purchase columns\n",
    "purchase_cat_dataset['PURCHASES_SUM'] = (\n",
    "    purchase_cat_dataset['MISC_PURCHASES'] + \n",
    "    purchase_cat_dataset['HOME_PURCHASES'] + \n",
    "    purchase_cat_dataset['COSMETICS_PURCHASES'] + \n",
    "    purchase_cat_dataset['FASHION_PURCHASES']\n",
    ")"
   ]
  },
  {
   "cell_type": "code",
   "execution_count": 68,
   "id": "c25acc44-3391-4270-93ce-18b9f7209bc7",
   "metadata": {},
   "outputs": [],
   "source": [
    "# Check if this sum equals 'PURCHASE_COUNT_DELIVERY'\n",
    "purchase_cat_dataset['IS_CAT_SUM_EQUAL'] = purchase_cat_dataset['PURCHASES_SUM'] == purchase_cat_dataset['PURCHASE_COUNT_DELIVERY']"
   ]
  },
  {
   "cell_type": "code",
   "execution_count": 69,
   "id": "ec1d34a7-6728-423e-b9ef-1ee6acc6c878",
   "metadata": {},
   "outputs": [
    {
     "data": {
      "text/plain": [
       "(9798, 8)"
      ]
     },
     "execution_count": 69,
     "metadata": {},
     "output_type": "execute_result"
    }
   ],
   "source": [
    "purchase_cat_dataset[purchase_cat_dataset['IS_CAT_SUM_EQUAL']].shape"
   ]
  },
  {
   "cell_type": "markdown",
   "id": "b8bb3c94-9aac-4163-83cb-f8403215cd8a",
   "metadata": {},
   "source": [
    "## 9. Investigate FIRST_PURCHASE and FIRST_PURCHASE \n",
    "\n",
    "- check date format\n",
    "- check invalid date\n",
    "- date consistency checks"
   ]
  },
  {
   "cell_type": "code",
   "execution_count": 70,
   "id": "f5badf4a-e07d-4de7-8033-0685857d4eaf",
   "metadata": {},
   "outputs": [],
   "source": [
    "dataset_copy = raw_dataset.copy()"
   ]
  },
  {
   "cell_type": "code",
   "execution_count": 71,
   "id": "e3730c01-ad52-41ab-82e3-e88d0088db07",
   "metadata": {},
   "outputs": [],
   "source": [
    "# Define a list of possible datetime formats\n",
    "date_formats = [\n",
    "    '%Y-%m-%d %H:%M:%S',   # Example format: 2024-08-17 05:45:55\n",
    "]"
   ]
  },
  {
   "cell_type": "code",
   "execution_count": 72,
   "id": "fbb5c189-5584-4233-be30-26b64b406792",
   "metadata": {},
   "outputs": [],
   "source": [
    "def date_parse_checker(date_str: str) -> pd.Timestamp:\n",
    "    \"\"\"\n",
    "    Attempt to parse a date string using multiple date formats.\n",
    "\n",
    "    This function iterates through a list of date formats and attempts to parse the\n",
    "    provided date string using each format. If the date string is successfully parsed,\n",
    "    it returns a pandas Timestamp object. If none of the formats match, it returns a\n",
    "    string indicating that the date is invalid.\n",
    "\n",
    "    Parameters:\n",
    "    - date_str (str): The date string to be parsed.\n",
    "\n",
    "    Returns:\n",
    "    - pd.Timestamp: The parsed date as a pandas Timestamp if successful.\n",
    "    - str: An error message indicating the date is invalid if parsing fails for all formats.\n",
    "    \"\"\"\n",
    "    for fmt in date_formats:\n",
    "        try:\n",
    "            # Attempt to parse the date string using the current format\n",
    "            return pd.to_datetime(date_str, format=fmt)\n",
    "        except ValueError:\n",
    "            # Continue to the next format if parsing fails\n",
    "            continue\n",
    "    \n",
    "    # If none of the formats match, return a string indicating the date is invalid\n",
    "    return f\"invalid - {date_str}\""
   ]
  },
  {
   "cell_type": "code",
   "execution_count": 73,
   "id": "c801164b-23ea-49b7-b265-85fcb19192fb",
   "metadata": {},
   "outputs": [],
   "source": [
    "# Apply the parsing function\n",
    "dataset_copy['FIRST_PURCHASE'] = dataset_copy['FIRST_PURCHASE'].apply(date_parse_checker)\n",
    "dataset_copy['LAST_PURCHASE'] = dataset_copy['LAST_PURCHASE'].apply(date_parse_checker)"
   ]
  },
  {
   "cell_type": "code",
   "execution_count": 74,
   "id": "ebe53e88-84f3-4659-8a75-154dbaeed7d4",
   "metadata": {},
   "outputs": [],
   "source": [
    "# Filtering rows in multiple date columns with the word \"invalid\" (case insensitive)\n",
    "contains_invalid_dates = dataset_copy[\n",
    "    dataset_copy[\"FIRST_PURCHASE\"].str.contains(\"invalid\", case=False, na=False) |\n",
    "    dataset_copy[\"LAST_PURCHASE\"].str.contains(\"invalid\", case=False, na=False)\n",
    "]"
   ]
  },
  {
   "cell_type": "code",
   "execution_count": 75,
   "id": "fbcbac29-7e06-476b-8d23-320f2f7f0537",
   "metadata": {},
   "outputs": [
    {
     "data": {
      "text/plain": [
       "LAST_PURCHASE                   FIRST_PURCHASE                \n",
       "invalid - 29.02.2022  00:00:00  invalid - 29.02.2022  00:00:00    4\n",
       "2022-10-30 00:00:00             invalid - 29.02.2022  00:00:00    2\n",
       "invalid - 29.02.2022  00:00:00  2021-09-17 00:00:00               2\n",
       "                                2021-09-11 00:00:00               1\n",
       "                                2022-01-17 00:00:00               1\n",
       "                                2022-01-14 00:00:00               1\n",
       "                                2021-11-18 00:00:00               1\n",
       "                                2021-10-16 00:00:00               1\n",
       "                                2021-10-11 00:00:00               1\n",
       "                                2021-09-29 00:00:00               1\n",
       "                                2021-09-26 00:00:00               1\n",
       "                                2021-09-15 00:00:00               1\n",
       "                                2021-09-14 00:00:00               1\n",
       "2022-07-13 00:00:00             invalid - 29.02.2022  00:00:00    1\n",
       "2022-08-01 00:00:00             invalid - 29.02.2022  00:00:00    1\n",
       "invalid - 29.02.2022  00:00:00  2021-09-01 00:00:00               1\n",
       "2022-10-31 00:00:00             invalid - 29.02.2022  00:00:00    1\n",
       "2022-10-29 00:00:00             invalid - 29.02.2022  00:00:00    1\n",
       "2022-10-25 00:00:00             invalid - 29.02.2022  00:00:00    1\n",
       "2022-10-20 00:00:00             invalid - 29.02.2022  00:00:00    1\n",
       "2022-10-14 00:00:00             invalid - 29.02.2022  00:00:00    1\n",
       "2022-10-04 00:00:00             invalid - 29.02.2022  00:00:00    1\n",
       "2022-10-03 00:00:00             invalid - 29.02.2022  00:00:00    1\n",
       "2022-09-19 00:00:00             invalid - 29.02.2022  00:00:00    1\n",
       "invalid - 29.02.2022  00:00:00  2021-09-09 00:00:00               1\n",
       "Name: count, dtype: int64"
      ]
     },
     "execution_count": 75,
     "metadata": {},
     "output_type": "execute_result"
    }
   ],
   "source": [
    "contains_invalid_dates[[\"LAST_PURCHASE\",\"FIRST_PURCHASE\"]].value_counts()"
   ]
  },
  {
   "cell_type": "code",
   "execution_count": 76,
   "id": "da4cb1c7-5f9e-40b9-acf6-0d62ffffaaf7",
   "metadata": {},
   "outputs": [],
   "source": [
    "exp_dataset = raw_dataset.copy()"
   ]
  },
  {
   "cell_type": "code",
   "execution_count": 77,
   "id": "ef34e5fb-4ead-45c1-98b9-6ef80c0a660a",
   "metadata": {},
   "outputs": [],
   "source": [
    "def parse_and_correct_date(date_str: str, date_formats: list = date_formats) -> pd.Timestamp:\n",
    "    \"\"\"\n",
    "    Parse a date string and correct known invalid dates.\n",
    "\n",
    "    This function attempts to parse the provided date string using a list of date formats.\n",
    "    It also includes a specific correction for known invalid dates.\n",
    "\n",
    "    Args:\n",
    "        date_str (str): The date string to be parsed and corrected.\n",
    "        date_formats (list): A list of date formats to try for parsing.\n",
    "\n",
    "    Returns:\n",
    "        pd.Timestamp: The parsed date as a pandas Timestamp, or a corrected Timestamp if a known invalid date is found.\n",
    "    \"\"\"\n",
    "    # Define the known invalid date and its correction\n",
    "    invalid_date = \"29.02.2022  00:00:00\"\n",
    "    corrected_date = pd.Timestamp(\"2022-03-01 00:00:00\")\n",
    "\n",
    "    # Check if the provided date string matches the specific invalid date\n",
    "    if str(date_str) == invalid_date:\n",
    "        return corrected_date\n",
    "\n",
    "    # Attempt parsing with each date format provided\n",
    "    for fmt in date_formats:\n",
    "        try:\n",
    "            return pd.to_datetime(date_str, format=fmt)\n",
    "        except ValueError:\n",
    "            continue\n",
    "    # If none of the formats match, return a string indicating the date is invalid\n",
    "    return f\"invalid - {date_str}\""
   ]
  },
  {
   "cell_type": "code",
   "execution_count": 78,
   "id": "79a9180c-53e9-42dc-bbd1-426639f9ac78",
   "metadata": {},
   "outputs": [],
   "source": [
    "# Apply the parsing function\n",
    "exp_dataset['FIRST_PURCHASE'] = exp_dataset['FIRST_PURCHASE'].apply(parse_and_correct_date)\n",
    "exp_dataset['LAST_PURCHASE'] = exp_dataset['LAST_PURCHASE'].apply(parse_and_correct_date)"
   ]
  },
  {
   "cell_type": "code",
   "execution_count": 79,
   "id": "a59b4181-9603-40cc-bcfd-bde87a9afa9f",
   "metadata": {},
   "outputs": [
    {
     "name": "stdout",
     "output_type": "stream",
     "text": [
      "Schema validation successful. All columns match the expected data types.\n"
     ]
    }
   ],
   "source": [
    "# Pass the Great Expectations dataframe to the schema validation function\n",
    "ge_exp_df = ge.from_pandas(exp_dataset)\n",
    "test_schema_validation(ge_exp_df)"
   ]
  },
  {
   "cell_type": "code",
   "execution_count": 84,
   "id": "fd0438c8-97cb-4f67-93ad-679c2a705d95",
   "metadata": {},
   "outputs": [],
   "source": [
    "# Filtering rows in multiple date columns with the word \"invalid\" (case insensitive)\n",
    "converted_invalid_data = exp_dataset[\n",
    "    exp_dataset[\"FIRST_PURCHASE\"].astype(str).str.contains(\"invalid\", case=False, na=False) |\n",
    "    exp_dataset[\"LAST_PURCHASE\"].astype(str).str.contains(\"invalid\", case=False, na=False)\n",
    "]"
   ]
  },
  {
   "cell_type": "code",
   "execution_count": 85,
   "id": "c5f70cd8-cf0f-44ed-98af-2abd264c938e",
   "metadata": {},
   "outputs": [
    {
     "data": {
      "text/plain": [
       "(0, 21)"
      ]
     },
     "execution_count": 85,
     "metadata": {},
     "output_type": "execute_result"
    }
   ],
   "source": [
    "converted_invalid_data.shape"
   ]
  },
  {
   "cell_type": "code",
   "execution_count": 86,
   "id": "8a1b3468-da84-4547-970f-9cc7ae2559d9",
   "metadata": {},
   "outputs": [],
   "source": [
    "invalid_first_date = exp_dataset[exp_dataset['LAST_PURCHASE'] < exp_dataset[\"FIRST_PURCHASE\"]]"
   ]
  },
  {
   "cell_type": "code",
   "execution_count": 87,
   "id": "636a28ef-038a-4127-8b54-0a63214ec00a",
   "metadata": {},
   "outputs": [
    {
     "data": {
      "text/plain": [
       "(0, 21)"
      ]
     },
     "execution_count": 87,
     "metadata": {},
     "output_type": "execute_result"
    }
   ],
   "source": [
    "invalid_first_date.shape"
   ]
  },
  {
   "cell_type": "code",
   "execution_count": null,
   "id": "79ebc3c9-4ff0-40ee-8af6-6a27bbf3ebf5",
   "metadata": {},
   "outputs": [],
   "source": [
    "##  Data Cleaning"
   ]
  },
  {
   "cell_type": "code",
   "execution_count": 96,
   "id": "fc9c8ff5-aa35-426b-a377-3bf4e58e0685",
   "metadata": {},
   "outputs": [],
   "source": [
    "clean_dataset = raw_dataset.copy()"
   ]
  },
  {
   "cell_type": "code",
   "execution_count": 97,
   "id": "c4dec267-056c-47d5-9b8d-57cfaaae133f",
   "metadata": {},
   "outputs": [],
   "source": [
    "# Apply the parsing function\n",
    "clean_dataset['FIRST_PURCHASE'] = clean_dataset['FIRST_PURCHASE'].apply(parse_and_correct_date)\n",
    "clean_dataset['LAST_PURCHASE'] = clean_dataset['LAST_PURCHASE'].apply(parse_and_correct_date)"
   ]
  },
  {
   "cell_type": "code",
   "execution_count": 98,
   "id": "56f78aed-210a-435b-8602-22b4864d034d",
   "metadata": {},
   "outputs": [],
   "source": [
    "# Define a function to identify valid codes (3 letters long)\n",
    "def is_valid_code(code):\n",
    "    return isinstance(code, str) and len(code) == 3 and code.isalpha()\n",
    "\n",
    "# Apply the function to filter out invalid values\n",
    "clean_dataset = clean_dataset[clean_dataset['REGISTRATION_STATE_CGNDE'].apply(is_valid_code)]"
   ]
  },
  {
   "cell_type": "markdown",
   "id": "0e174144-f795-4f3a-95c8-85562f27e42d",
   "metadata": {},
   "source": [
    "## Purchase Trends\n"
   ]
  },
  {
   "cell_type": "markdown",
   "id": "8f7204e7-c54d-458d-89ac-895a6d019742",
   "metadata": {},
   "source": [
    "1. Purchase trends\n",
    "   \n",
    "    a. Hour of the day\n",
    "\n",
    "    b. Day of the week\n",
    "\n",
    "    c. Days between first and last purchase\n",
    "\n",
    "    d. Purchase value\n",
    "\n",
    "    e. Average Order Value"
   ]
  },
  {
   "cell_type": "markdown",
   "id": "926c82be-3d0a-429b-8ae1-b061bb5e1d5b",
   "metadata": {},
   "source": [
    "##   a. Hour of the day"
   ]
  },
  {
   "cell_type": "code",
   "execution_count": 99,
   "id": "5cb761c2-a01d-4dce-bf0d-71eb7dd3e9ae",
   "metadata": {},
   "outputs": [
    {
     "name": "stdout",
     "output_type": "stream",
     "text": [
      "<class 'pandas.core.frame.DataFrame'>\n",
      "Index: 21423 entries, 0 to 21427\n",
      "Data columns (total 3 columns):\n",
      " #   Column                                   Non-Null Count  Dtype  \n",
      "---  ------                                   --------------  -----  \n",
      " 0   MOST_COMMON_HOUR_OF_THE_DAY_TO_PURCHASE  11973 non-null  float64\n",
      " 1   REGISTRATION_STATE_CGNDE                 21423 non-null  object \n",
      " 2   PREFERRED_DEVICE                         21359 non-null  object \n",
      "dtypes: float64(1), object(2)\n",
      "memory usage: 669.5+ KB\n"
     ]
    }
   ],
   "source": [
    "trends_hour_of_day_df = clean_dataset[[\"MOST_COMMON_HOUR_OF_THE_DAY_TO_PURCHASE\", \"REGISTRATION_STATE_CGNDE\", \"PREFERRED_DEVICE\"]]\n",
    "trends_hour_of_day_df.info()"
   ]
  },
  {
   "cell_type": "code",
   "execution_count": 100,
   "id": "9f535a3d-0256-45f4-aeac-f5129ee41bed",
   "metadata": {},
   "outputs": [
    {
     "data": {
      "image/png": "[encoded data removed]",
      "text/plain": [
       "<Figure size 1700x700 with 1 Axes>"
      ]
     },
     "metadata": {},
     "output_type": "display_data"
    }
   ],
   "source": [
    "# Increase the plot size\n",
    "plt.figure(figsize=(17, 7))  # Width = 20 inches, Height = 6 inches\n",
    "\n",
    "\n",
    "# Plot the value counts as a bar plot\n",
    "trends_hour_of_day_df[\"MOST_COMMON_HOUR_OF_THE_DAY_TO_PURCHASE\"].value_counts().sort_index().plot(kind=\"bar\")\n",
    "\n",
    "\n",
    "# Customize the plot\n",
    "plt.title(\"Purchase Trends by Hour of the Day\")\n",
    "plt.xlabel(\"Hour of the Day\")\n",
    "plt.ylabel(\"Number of Purchases\")\n",
    "plt.xticks(rotation=0)\n",
    "\n",
    "plt.show()"
   ]
  },
  {
   "cell_type": "code",
   "execution_count": 101,
   "id": "e0918e8f-5c69-4876-9f8e-4219499e7ba6",
   "metadata": {},
   "outputs": [
    {
     "data": {
      "image/png": "[encoded data removed]",
      "text/plain": [
       "<Figure size 1700x700 with 1 Axes>"
      ]
     },
     "metadata": {},
     "output_type": "display_data"
    }
   ],
   "source": [
    "import seaborn as sns\n",
    "\n",
    "\n",
    "# Increase the plot size\n",
    "plt.figure(figsize=(17, 7))  # Width = 17 inches, Height = 7 inches\n",
    "\n",
    "sns.countplot(\n",
    "    x='MOST_COMMON_HOUR_OF_THE_DAY_TO_PURCHASE',\n",
    "    hue='PREFERRED_DEVICE',\n",
    "    data=trends_hour_of_day_df,\n",
    "    palette='Set2'\n",
    ")\n",
    "\n",
    "plt.xlabel(\"Hour of the Day\")\n",
    "plt.ylabel(\"Number of Purchases\")\n",
    "plt.title(\"Purchase Trends by Hour of the Day and Preferred Device\")\n",
    "plt.xticks(rotation=0)\n",
    "plt.legend(title='Preferred Device', bbox_to_anchor=(1.05, 1), loc='upper left')\n",
    "plt.tight_layout()\n",
    "plt.show()"
   ]
  },
  {
   "cell_type": "code",
   "execution_count": 102,
   "id": "fa060622-c8ad-43b3-a40c-123a80ed9def",
   "metadata": {},
   "outputs": [
    {
     "data": {
      "image/png": "[encoded data removed]",
      "text/plain": [
       "<Figure size 1700x700 with 1 Axes>"
      ]
     },
     "metadata": {},
     "output_type": "display_data"
    }
   ],
   "source": [
    "\n",
    "# Increase the plot size\n",
    "plt.figure(figsize=(17, 7))  # Width = 17 inches, Height = 7 inches\n",
    "\n",
    "sns.countplot(\n",
    "    x='MOST_COMMON_HOUR_OF_THE_DAY_TO_PURCHASE',\n",
    "    hue='REGISTRATION_STATE_CGNDE',\n",
    "    data=trends_hour_of_day_df,\n",
    "    palette='Set2'\n",
    ")\n",
    "\n",
    "plt.xlabel(\"Hour of the Day\")\n",
    "plt.ylabel(\"Number of Purchases\")\n",
    "plt.title(\"Purchase Trends by Hour of the Day and State code\")\n",
    "plt.xticks(rotation=0)\n",
    "plt.legend(title='State code', bbox_to_anchor=(1.05, 1), loc='upper left')\n",
    "plt.tight_layout()\n",
    "plt.show()"
   ]
  },
  {
   "cell_type": "markdown",
   "id": "c7742a61-d16b-4937-a202-080890324296",
   "metadata": {},
   "source": [
    "## b. Day of the week"
   ]
  },
  {
   "cell_type": "code",
   "execution_count": 103,
   "id": "5892b223-709f-4a93-a831-d64ece26ba0a",
   "metadata": {},
   "outputs": [
    {
     "name": "stdout",
     "output_type": "stream",
     "text": [
      "<class 'pandas.core.frame.DataFrame'>\n",
      "Index: 21423 entries, 0 to 21427\n",
      "Data columns (total 3 columns):\n",
      " #   Column                           Non-Null Count  Dtype  \n",
      "---  ------                           --------------  -----  \n",
      " 0   MOST_COMMON_WEEKDAY_TO_PURCHASE  11973 non-null  float64\n",
      " 1   REGISTRATION_STATE_CGNDE         21423 non-null  object \n",
      " 2   PREFERRED_DEVICE                 21359 non-null  object \n",
      "dtypes: float64(1), object(2)\n",
      "memory usage: 669.5+ KB\n"
     ]
    }
   ],
   "source": [
    "trends_weekday_df = clean_dataset[[\"MOST_COMMON_WEEKDAY_TO_PURCHASE\", \"REGISTRATION_STATE_CGNDE\", \"PREFERRED_DEVICE\"]]\n",
    "trends_weekday_df.info()"
   ]
  },
  {
   "cell_type": "code",
   "execution_count": 104,
   "id": "dc94b19a-8e5d-48e2-88e9-163a2e583dc0",
   "metadata": {},
   "outputs": [
    {
     "data": {
      "image/png": "[encoded data removed]",
      "text/plain": [
       "<Figure size 1700x700 with 1 Axes>"
      ]
     },
     "metadata": {},
     "output_type": "display_data"
    }
   ],
   "source": [
    "# Increase the plot size\n",
    "plt.figure(figsize=(17, 7))  # Width = 20 inches, Height = 6 inches\n",
    "\n",
    "\n",
    "# Plot the value counts as a bar plot\n",
    "trends_weekday_df[\"MOST_COMMON_WEEKDAY_TO_PURCHASE\"].value_counts().sort_index().plot(kind=\"bar\")\n",
    "\n",
    "\n",
    "# Customize the plot\n",
    "plt.title(\"Purchase Trends by Weekday\")\n",
    "plt.xlabel(\"Weekday\")\n",
    "plt.ylabel(\"Number of Purchases\")\n",
    "plt.xticks(rotation=0)\n",
    "\n",
    "plt.show()"
   ]
  },
  {
   "cell_type": "code",
   "execution_count": 105,
   "id": "30b0d868-1599-46ad-9935-f47f390bbf53",
   "metadata": {},
   "outputs": [
    {
     "data": {
      "image/png": "[encoded data removed]",
      "text/plain": [
       "<Figure size 1700x700 with 1 Axes>"
      ]
     },
     "metadata": {},
     "output_type": "display_data"
    }
   ],
   "source": [
    "import seaborn as sns\n",
    "\n",
    "\n",
    "# Increase the plot size\n",
    "plt.figure(figsize=(17, 7))  # Width = 17 inches, Height = 7 inches\n",
    "\n",
    "sns.countplot(\n",
    "    x='MOST_COMMON_WEEKDAY_TO_PURCHASE',\n",
    "    hue='PREFERRED_DEVICE',\n",
    "    data=trends_weekday_df,\n",
    "    palette='Set2'\n",
    ")\n",
    "\n",
    "plt.xlabel(\"Weekday\")\n",
    "plt.ylabel(\"Number of Purchases\")\n",
    "plt.title(\"Purchase Trends by Weekday and Preferred Device\")\n",
    "plt.xticks(rotation=0)\n",
    "plt.legend(title='Preferred Device', bbox_to_anchor=(1.05, 1), loc='upper left')\n",
    "plt.tight_layout()\n",
    "plt.show()"
   ]
  },
  {
   "cell_type": "code",
   "execution_count": 106,
   "id": "4a457c38-0940-4d1c-b79f-2c73ba516fdf",
   "metadata": {},
   "outputs": [
    {
     "data": {
      "image/png": "[encoded data removed]",
      "text/plain": [
       "<Figure size 1700x700 with 1 Axes>"
      ]
     },
     "metadata": {},
     "output_type": "display_data"
    }
   ],
   "source": [
    "# Increase the plot size\n",
    "plt.figure(figsize=(17, 7))  # Width = 17 inches, Height = 7 inches\n",
    "\n",
    "sns.countplot(\n",
    "    x='MOST_COMMON_WEEKDAY_TO_PURCHASE',\n",
    "    hue='REGISTRATION_STATE_CGNDE',\n",
    "    data=trends_weekday_df,\n",
    "    palette='Set2'\n",
    ")\n",
    "\n",
    "plt.xlabel(\"Weekday\")\n",
    "plt.ylabel(\"Number of Purchases\")\n",
    "plt.title(\"Purchase Trends by Weekday and State code\")\n",
    "plt.xticks(rotation=0)\n",
    "plt.legend(title='State code', bbox_to_anchor=(1.05, 1), loc='upper left')\n",
    "plt.tight_layout()\n",
    "plt.show()"
   ]
  },
  {
   "cell_type": "markdown",
   "id": "ef79b02b-f003-4f3a-ae80-d9dd60dad90b",
   "metadata": {},
   "source": [
    "## c. Days between first and last purchase"
   ]
  },
  {
   "cell_type": "code",
   "execution_count": 109,
   "id": "0bd49d41-cd4e-4bf1-be05-a7052bd5c3cc",
   "metadata": {},
   "outputs": [],
   "source": [
    "# Convert date column to datetime type\n",
    "clean_dataset[\"FIRST_PURCHASE\"] = pd.to_datetime(clean_dataset[\"FIRST_PURCHASE\"])\n",
    "clean_dataset[\"LAST_PURCHASE\"] = pd.to_datetime(clean_dataset[\"LAST_PURCHASE\"])"
   ]
  },
  {
   "cell_type": "code",
   "execution_count": 110,
   "id": "4b38b448-3c44-428c-b612-9ec2dd1ebd4e",
   "metadata": {},
   "outputs": [],
   "source": [
    "\n",
    "#Extract date and time from the columns\n",
    "clean_dataset[\"FIRST_PURCHASE_DATE\"] = clean_dataset[\"FIRST_PURCHASE\"].dt.date\n",
    "clean_dataset[\"FIRST_PURCHASE_TIME\"] = clean_dataset[\"FIRST_PURCHASE\"].dt.time\n",
    "clean_dataset[\"LAST_PURCHASE_DATE\"] = clean_dataset[\"LAST_PURCHASE\"].dt.date\n",
    "clean_dataset[\"LAST_PURCHASE_TIME\"] = clean_dataset[\"LAST_PURCHASE\"].dt.time"
   ]
  },
  {
   "cell_type": "code",
   "execution_count": 111,
   "id": "b7a78a9c-52f6-4dfc-bf43-2229983a4ac9",
   "metadata": {},
   "outputs": [],
   "source": [
    "# Ensure the columns are converted to datetime\n",
    "clean_dataset['FIRST_PURCHASE_DATE'] = pd.to_datetime(clean_dataset['FIRST_PURCHASE_DATE'], errors='coerce')\n",
    "clean_dataset['LAST_PURCHASE_DATE'] = pd.to_datetime(clean_dataset['LAST_PURCHASE_DATE'], errors='coerce')\n",
    "\n",
    "# Calculate the difference in days\n",
    "clean_dataset['LAST_FIRST_DIFF'] = (clean_dataset['LAST_PURCHASE_DATE'] - clean_dataset['FIRST_PURCHASE_DATE']).dt.days"
   ]
  },
  {
   "cell_type": "code",
   "execution_count": 112,
   "id": "02628608-9aa5-4815-bdaf-ae06a9a75a05",
   "metadata": {},
   "outputs": [
    {
     "data": {
      "text/plain": [
       "LAST_FIRST_DIFF\n",
       "0.0      4191\n",
       "1.0       100\n",
       "2.0        73\n",
       "399.0      56\n",
       "398.0      55\n",
       "403.0      55\n",
       "390.0      55\n",
       "396.0      55\n",
       "391.0      52\n",
       "397.0      51\n",
       "Name: count, dtype: int64"
      ]
     },
     "execution_count": 112,
     "metadata": {},
     "output_type": "execute_result"
    }
   ],
   "source": [
    "clean_dataset['LAST_FIRST_DIFF'].value_counts().head(10)"
   ]
  },
  {
   "cell_type": "code",
   "execution_count": 131,
   "id": "a9f4632f-b815-4bbf-8111-33eba0f3cc32",
   "metadata": {},
   "outputs": [
    {
     "data": {
      "image/png": "[encoded data removed]",
      "text/plain": [
       "<Figure size 640x480 with 1 Axes>"
      ]
     },
     "metadata": {},
     "output_type": "display_data"
    }
   ],
   "source": [
    "# Plot the value counts as a bar plot\n",
    "clean_dataset['LAST_FIRST_DIFF'].value_counts().head(10).sort_index().plot(kind=\"bar\")\n",
    "\n",
    "\n",
    "# Customize the plot\n",
    "plt.title(\"Top 10 Frequency of days between first and last purchase\")\n",
    "plt.xlabel(\"Number of days \")\n",
    "plt.ylabel(\"Frequency of days\")\n",
    "plt.xticks(rotation=0)\n",
    "\n",
    "plt.show()"
   ]
  },
  {
   "cell_type": "code",
   "execution_count": 133,
   "id": "a3c80edd-5240-4afa-8943-07ac40f61abe",
   "metadata": {},
   "outputs": [],
   "source": [
    "# Define custom bin edges and labels\n",
    "bins = [0, 1, 11, 51, float('inf')]  # Edge definitions for intervals [0], [1-10), [11-50), [51+]\n",
    "labels = ['Same Day', 'Early', 'medium', 'Late']\n",
    "\n",
    "# Create a new column 'Interval_Label' based on the intervals defined\n",
    "clean_dataset['LAST_FIRST_DIFF_CAT'] = pd.cut(clean_dataset['LAST_FIRST_DIFF'], bins=bins, labels=labels, right=False)"
   ]
  },
  {
   "cell_type": "code",
   "execution_count": 134,
   "id": "0c351532-e4ee-4581-8e99-6633a16c0b1f",
   "metadata": {},
   "outputs": [
    {
     "data": {
      "image/png": "[encoded data removed]",
      "text/plain": [
       "<Figure size 1700x700 with 1 Axes>"
      ]
     },
     "metadata": {},
     "output_type": "display_data"
    }
   ],
   "source": [
    "# Increase the plot size\n",
    "plt.figure(figsize=(17, 7))  # Width = 17 inches, Height = 7 inches\n",
    "\n",
    "\n",
    "# Plot the value counts as a bar plot\n",
    "clean_dataset[\"LAST_FIRST_DIFF_CAT\"].value_counts().sort_index().plot(kind=\"bar\")\n",
    "\n",
    "\n",
    "# Customize the plot\n",
    "plt.title(\"Frequency of the categories of the difference between last and first purchase\")\n",
    "plt.xlabel(\"Difference between last and first categories\")\n",
    "plt.ylabel(\"Frequency\")\n",
    "plt.xticks(rotation=0)\n",
    "\n",
    "plt.show()"
   ]
  },
  {
   "cell_type": "markdown",
   "id": "343f8727-e2b5-4edd-9d74-3453c207d3fc",
   "metadata": {},
   "source": [
    "## Purchase value"
   ]
  },
  {
   "cell_type": "code",
   "execution_count": 135,
   "id": "60b4c380-e653-4146-a59c-7e7e1f4d9266",
   "metadata": {},
   "outputs": [
    {
     "data": {
      "text/plain": [
       "1.012"
      ]
     },
     "execution_count": 135,
     "metadata": {},
     "output_type": "execute_result"
    }
   ],
   "source": [
    "clean_dataset[\"PURCHASE_TOTAL_EUR\"].min()"
   ]
  },
  {
   "cell_type": "code",
   "execution_count": 136,
   "id": "d6d1d07a-ba6d-463a-9e07-834d2bc35b62",
   "metadata": {},
   "outputs": [
    {
     "data": {
      "text/plain": [
       "7979.62"
      ]
     },
     "execution_count": 136,
     "metadata": {},
     "output_type": "execute_result"
    }
   ],
   "source": [
    "clean_dataset[\"PURCHASE_TOTAL_EUR\"].max()"
   ]
  },
  {
   "cell_type": "code",
   "execution_count": 139,
   "id": "89cb1692-8f33-44ed-9932-01fdaffdd35c",
   "metadata": {},
   "outputs": [],
   "source": [
    "# Define custom bin edges and labels\n",
    "bins = [1, 51, 501, 1001, 5001, float('inf')]  # Edge definitions for intervals [0], [1-10), [11-50), [51+]\n",
    "labels = [\"very low\", \"low\", \"medium\", \"high\", \"very high\"]\n",
    "\n",
    "\n",
    "# Define bin definitions for annotation\n",
    "bin_definitions = {\n",
    "    'very low': '1 - 50',\n",
    "    'low': '51 - 500',\n",
    "    'medium': '501 - 1000',\n",
    "    'high': '1001 - 5000',\n",
    "    'very high': '5001+'\n",
    "}\n",
    "\n",
    "\n",
    "\n",
    "\n",
    "# Create a new column 'Interval_Label' based on the intervals defined\n",
    "clean_dataset['TOTAL_PURCHASE_CAT'] = pd.cut(clean_dataset['PURCHASE_TOTAL_EUR'], bins=bins, labels=labels, right=False)"
   ]
  },
  {
   "cell_type": "code",
   "execution_count": 140,
   "id": "7ec00365-49f9-4f88-94c1-f2e54944cbf1",
   "metadata": {},
   "outputs": [],
   "source": [
    "# Calculate the counts of each Total Purchase Catergory label\n",
    "total_pur_cat_counts = clean_dataset['TOTAL_PURCHASE_CAT'].value_counts().sort_index()"
   ]
  },
  {
   "cell_type": "code",
   "execution_count": 141,
   "id": "5365ee9f-6e4f-4c62-880b-957226ad5c26",
   "metadata": {},
   "outputs": [
    {
     "data": {
      "image/png": "[encoded data removed]",
      "text/plain": [
       "<Figure size 1700x700 with 1 Axes>"
      ]
     },
     "metadata": {},
     "output_type": "display_data"
    }
   ],
   "source": [
    "# Increase the plot size\n",
    "plt.figure(figsize=(17, 7))  # Width = 17 inches, Height = 7 inches\n",
    "\n",
    "# Assign colors for each label\n",
    "colors = [\"red\", \"orange\", \"blue\", \"purple\", \"green\"]\n",
    "\n",
    "# Plot the bar chart\n",
    "bars = plt.bar(total_pur_cat_counts.index, total_pur_cat_counts.values, color=colors)\n",
    "\n",
    "\n",
    "# Create a custom legend\n",
    "# Create a legend by associating each bar with its bin definition\n",
    "for bar, label in zip(bars, labels):\n",
    "    bar.set_label(f\"{label}: {bin_definitions[label]}\")\n",
    "\n",
    "# Display the legend\n",
    "plt.legend(title=\"Category definition\")\n",
    "\n",
    "\n",
    "# Annotate the bars with the count at the top\n",
    "for bar in bars:\n",
    "    yval = bar.get_height()\n",
    "    plt.text(bar.get_x() + bar.get_width()/2, yval + 5, int(yval), ha='center', va='bottom')\n",
    "\n",
    "\n",
    "# # Annotate the bars with bin definitions\n",
    "# for bar, bin_def in zip(bars, bin_definitions):\n",
    "#     yval = bar.get_height()\n",
    "#     plt.text(bar.get_x() + bar.get_width()/2, yval + 0.1, bin_def, ha='center', va='bottom')\n",
    "\n",
    "# Set labels and title\n",
    "plt.xlabel('Purchase Categories')\n",
    "plt.ylabel('Count')\n",
    "plt.title('Count of Purchase Categories')\n",
    "plt.show()"
   ]
  },
  {
   "cell_type": "markdown",
   "id": "99dab0ab-316b-4ada-8d1a-56f05cfa97d1",
   "metadata": {},
   "source": [
    "## Average Order Value (AOV)"
   ]
  },
  {
   "cell_type": "code",
   "execution_count": 120,
   "id": "32de27a6-687c-4c89-8df4-cbb38159a101",
   "metadata": {},
   "outputs": [],
   "source": [
    "clean_dataset[\"AVERAGE_ORDER_VALUE\"] = clean_dataset[\"PURCHASE_TOTAL_EUR\"] / clean_dataset[\"DISTINCT_PURCHASE_COUNT\"]"
   ]
  },
  {
   "cell_type": "code",
   "execution_count": 121,
   "id": "a2a12c65-657b-410b-9e85-8f32d6b2a930",
   "metadata": {},
   "outputs": [
    {
     "data": {
      "text/plain": [
       "1.012"
      ]
     },
     "execution_count": 121,
     "metadata": {},
     "output_type": "execute_result"
    }
   ],
   "source": [
    "clean_dataset[\"AVERAGE_ORDER_VALUE\"].min()"
   ]
  },
  {
   "cell_type": "code",
   "execution_count": 122,
   "id": "8c561bf2-8721-480f-941f-a0b69daec399",
   "metadata": {},
   "outputs": [
    {
     "data": {
      "text/plain": [
       "1743.676"
      ]
     },
     "execution_count": 122,
     "metadata": {},
     "output_type": "execute_result"
    }
   ],
   "source": [
    "clean_dataset[\"AVERAGE_ORDER_VALUE\"].max()"
   ]
  },
  {
   "cell_type": "code",
   "execution_count": 123,
   "id": "8a64e827-3fb5-4a40-878e-80a9b3c6a767",
   "metadata": {},
   "outputs": [],
   "source": [
    "# Define custom bin edges and labels\n",
    "bins = [1, 101, 501, float('inf')]  # Edge definitions for intervals [0], [1-10), [11-50), [51+]\n",
    "labels = [\"low\", \"medium\", \"high\"]\n",
    "\n",
    "\n",
    "# Define bin definitions for annotation\n",
    "bin_definitions = {\n",
    "    'low': '1 - 100',\n",
    "    'medium': '101 - 500',\n",
    "    'high': '500+'\n",
    "}\n",
    "\n",
    "\n",
    "\n",
    "# Create a new column 'Interval_Label' based on the intervals defined\n",
    "clean_dataset['AOV_CAT'] = pd.cut(clean_dataset['AVERAGE_ORDER_VALUE'], bins=bins, labels=labels, right=False)"
   ]
  },
  {
   "cell_type": "code",
   "execution_count": 124,
   "id": "15a958dd-cec7-4961-895a-1ec5c2871e38",
   "metadata": {},
   "outputs": [],
   "source": [
    "# Calculate the counts of each Total Purchase Catergory label\n",
    "aov_cat_counts = clean_dataset['AOV_CAT'].value_counts().sort_index()"
   ]
  },
  {
   "cell_type": "code",
   "execution_count": 143,
   "id": "e803fd5b-bdfc-43fd-8336-fc761999ea67",
   "metadata": {},
   "outputs": [
    {
     "data": {
      "image/png": "[encoded data removed]",
      "text/plain": [
       "<Figure size 1700x700 with 1 Axes>"
      ]
     },
     "metadata": {},
     "output_type": "display_data"
    }
   ],
   "source": [
    "# Increase the plot size\n",
    "plt.figure(figsize=(17, 7))  # Width = 17 inches, Height = 7 inches\n",
    "\n",
    "# Assign colors for each label\n",
    "colors = [\"red\", \"orange\", \"green\"]\n",
    "\n",
    "# Plot the bar chart\n",
    "bars = plt.bar(aov_cat_counts.index, aov_cat_counts.values, color=colors)\n",
    "\n",
    "\n",
    "# Create a custom legend\n",
    "# Create a legend by associating each bar with its bin definition\n",
    "for bar, label in zip(bars, labels):\n",
    "    bar.set_label(f\"{label}: {bin_definitions[label]}\")\n",
    "\n",
    "# Display the legend\n",
    "plt.legend(title=\"Average Order Catergories\")\n",
    "\n",
    "\n",
    "# Annotate the bars with the count at the top\n",
    "for bar in bars:\n",
    "    yval = bar.get_height()\n",
    "    plt.text(bar.get_x() + bar.get_width()/2, yval + 5, int(yval), ha='center', va='bottom')\n",
    "\n",
    "\n",
    "\n",
    "# Set labels and title\n",
    "plt.xlabel('Average Order Catergories')\n",
    "plt.ylabel('Count')\n",
    "plt.title('Count of Average Order Catergories')\n",
    "plt.show()"
   ]
  },
  {
   "cell_type": "markdown",
   "id": "58db935d-0883-4121-a945-cef1974d3b95",
   "metadata": {},
   "source": [
    "## Least Likely to Purchase in the Following Month\n",
    "\n",
    "Identify customers whose LAST_PURCHASE is older than their average purchase interval (AVG_DAYS_BETWEEN_PURCHASES) and who do not have a valid payment method (HAS_VALID_PAYMENT_METHOD)."
   ]
  },
  {
   "cell_type": "code",
   "execution_count": 127,
   "id": "d5c6dbea-728c-44ca-8dd9-e68e3a397901",
   "metadata": {},
   "outputs": [],
   "source": [
    "least_likely_to_pur = clean_dataset[clean_dataset[\"LAST_FIRST_DIFF\"] < clean_dataset[\"AVG_DAYS_BETWEEN_PURCHASES\"]]\n",
    "least_likely_to_pur = least_likely_to_pur[least_likely_to_pur[\"HAS_VALID_PAYMENT_METHOD\"] == False] "
   ]
  },
  {
   "cell_type": "code",
   "execution_count": 128,
   "id": "8ed91d02-2c06-4246-a5db-70925e01c9be",
   "metadata": {},
   "outputs": [
    {
     "data": {
      "text/plain": [
       "251"
      ]
     },
     "execution_count": 128,
     "metadata": {},
     "output_type": "execute_result"
    }
   ],
   "source": [
    "least_likely_to_pur.shape[0]"
   ]
  },
  {
   "cell_type": "markdown",
   "id": "e791978f-fb27-4839-b80f-564eb07592e7",
   "metadata": {},
   "source": [
    "## Most Likely to Purchase in a Marketing Campaign\n",
    "\n",
    "1. Identify customers with a recent LAST_PURCHASE, high PURCHASE_COUNT_DELIVERY, and diverse purchase categories (MISC_PURCHASES, HOME_PURCHASES, etc.).\n",
    "\n",
    "2. Factor in preferred device (PREFERRED_DEVICE) to target with specific campaigns (e.g., iOS, Android, Web).\n",
    "\n",
    "3. Prioritize customers with a valid payment method (HAS_VALID_PAYMENT_METHOD)."
   ]
  },
  {
   "cell_type": "code",
   "execution_count": 144,
   "id": "490ca5f6-a2d0-44b7-918f-00a8af5f052f",
   "metadata": {},
   "outputs": [],
   "source": [
    "# Filter the dataset to include only customers with the most recent purchase date.\n",
    "# Importance: Recent activity is a strong indicator of customer engagement. Customers who have made a purchase recently are more likely to respond to marketing efforts since they have shown recent interest in the products or services.\n",
    "market_campaign_df = clean_dataset[clean_dataset[\"LAST_PURCHASE_DATE\"] == clean_dataset[\"LAST_PURCHASE_DATE\"].max()]\n",
    "\n",
    "# Further filter to include only customers who have made more than 5 deliveries.\n",
    "# Importance: High purchase frequency suggests a habit of regular purchasing. These customers are more likely to continue purchasing if prompted by a marketing campaign, as they have already demonstrated frequent buying behavior.\n",
    "market_campaign_df = market_campaign_df[market_campaign_df[\"PURCHASE_COUNT_DELIVERY\"] > 5]\n",
    "\n",
    "# Filter the dataset to include only customers who have a valid payment method.\n",
    "# Importance: Having a valid payment method removes barriers to purchasing. Customers with a valid payment method are ready to make immediate purchases, increasing the likelihood of conversion when targeted by a marketing campaign.\n",
    "market_campaign_df = market_campaign_df[market_campaign_df[\"HAS_VALID_PAYMENT_METHOD\"] == True]\n",
    "\n",
    "# Further filter to include only customers who fall into the 'very_high' or 'high' total purchase categories.\n",
    "# Importance: Customers in these categories have shown significant spending power. Targeting them increases the chances of generating higher revenue from the marketing campaign, as they have a history of making substantial purchases.\n",
    "market_campaign_df = market_campaign_df[market_campaign_df[\"TOTAL_PURCHASE_CAT\"].isin([\"very_high\", \"high\"])]\n",
    "\n",
    "# Finally, filter to include only customers with a 'high' average order value.\n",
    "# Importance: A high average order value (AOV) indicates that the customer tends to make larger purchases per order. These customers are valuable targets for a marketing campaign because they are likely to spend more on each transaction, maximizing the campaign's ROI.\n",
    "market_campaign_df = market_campaign_df[market_campaign_df[\"AOV_CAT\"] == \"high\"]"
   ]
  },
  {
   "cell_type": "code",
   "execution_count": 145,
   "id": "fe8361f2-c15a-4a96-8847-ce2b5cdc52f2",
   "metadata": {},
   "outputs": [
    {
     "data": {
      "text/plain": [
       "(1, 31)"
      ]
     },
     "execution_count": 145,
     "metadata": {},
     "output_type": "execute_result"
    }
   ],
   "source": [
    "market_campaign_df.shape"
   ]
  },
  {
   "cell_type": "code",
   "execution_count": null,
   "id": "92fee9ed-10dd-4d48-b543-df77b950f6e3",
   "metadata": {},
   "outputs": [],
   "source": []
  },
  {
   "cell_type": "code",
   "execution_count": null,
   "id": "3dd4b284-c3c2-42e3-be2d-2da4d043a9e2",
   "metadata": {},
   "outputs": [],
   "source": []
  }
 ],
 "metadata": {
  "kernelspec": {
   "display_name": "python10",
   "language": "python",
   "name": "python10"
  },
  "language_info": {
   "codemirror_mode": {
    "name": "ipython",
    "version": 3
   },
   "file_extension": ".py",
   "mimetype": "text/x-python",
   "name": "python",
   "nbconvert_exporter": "python",
   "pygments_lexer": "ipython3",
   "version": "3.10.5"
  }
 },
 "nbformat": 4,
 "nbformat_minor": 5
}
